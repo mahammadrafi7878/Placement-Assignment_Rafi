{
 "cells": [
  {
   "cell_type": "raw",
   "id": "d5a922fd",
   "metadata": {},
   "source": [
    " Consider a dataset containing the heights (in centimeters) of 1000 individuals. The\n",
    "mean height is 170 cm with a standard deviation of 10 cm. The dataset is approximately\n",
    "normally distributed, and its skewness is approximately zero. Based on this information,\n",
    "answer the following questions:\n",
    "a. What percentage of individuals in the dataset have heights between 160 cm\n",
    "and 180 cm?\n",
    "b. If we randomly select 100 individuals from the dataset, what is the probability\n",
    "that their average height is greater than 175 cm?\n",
    "c. Assuming the dataset follows a normal distribution, what is the z-score\n",
    "corresponding to a height of 185 cm?\n",
    "d. We know that 5% of the dataset has heights below a certain value. What is\n",
    "the approximate height corresponding to this threshold?\n",
    "e. Calculate the coefficient of variation (CV) for the dataset.\n",
    "f. Calculate the skewness of the dataset and interpret the result."
   ]
  },
  {
   "cell_type": "raw",
   "id": "a021f35f",
   "metadata": {},
   "source": [
    " What percentage of individuals in the dataset have heights between 160 cm\n",
    "and 180 cm?"
   ]
  },
  {
   "cell_type": "raw",
   "id": "9da32c83",
   "metadata": {},
   "source": [
    "Here Given data is ,\n",
    "      Population Data(N)=1000,\n",
    "      Population Mean(mu)=170,\n",
    "      Population std( sig)=10 .\n",
    "    \n",
    "    The data was approximately normal distributed data with skewness=0, \n",
    "    \n",
    "  The Empherical Formula of Normal distribution is given as 68% - 95% - 99.7\n",
    "     i.e The data distribution with in the first standard deviation is 68%\n",
    "         The data distribution with in the second standard deviation is 95%\n",
    "         The data distribution with in the third std is 99.7%\n",
    "         \n",
    "       w.k.t   first standrad distribution formula is mu+sig, mu_sig \n",
    "         from given data we need to find the datadistribution  with first standard deviation is 6*%\n",
    "         \n",
    "         data distribution b/w 160 and 180  is 68%\n",
    "      "
   ]
  },
  {
   "cell_type": "raw",
   "id": "d7701956",
   "metadata": {},
   "source": [
    ". If we randomly select 100 individuals from the dataset, what is the probability\n",
    "that their average height is greater than 175 cm?\n"
   ]
  },
  {
   "cell_type": "raw",
   "id": "6b3f402c",
   "metadata": {},
   "source": [
    "From data distribution of empherical formula we can say that \n",
    "  one side of dat distribution is given as \n",
    "     34%+13.5%+2.35%+0.15%     EQUALS TO 50%\n",
    "       \n",
    "       data greater than 175 is \n",
    "          17+13.5+2.35+0.15  =33% \n",
    "      that is 33% chances theaverage height greater than 175.\n",
    "     "
   ]
  },
  {
   "cell_type": "raw",
   "id": "c0e4c24a",
   "metadata": {},
   "source": [
    "Assuming the dataset follows a normal distribution, what is the z-score\n",
    "corresponding to a height of 185 cm?"
   ]
  },
  {
   "cell_type": "raw",
   "id": "c1ca568a",
   "metadata": {},
   "source": [
    "z-score formula is given as (xi-mu)/sig\n",
    "   here xi=185\n",
    "   mu=175\n",
    "   sig=10 \n",
    "  substituting these value in above formula we get as 1.5\n",
    "  \n",
    "  Z-score corresponding to a height of 185 is 1.5"
   ]
  },
  {
   "cell_type": "raw",
   "id": "ba7ed43d",
   "metadata": {},
   "source": [
    "We know that 5% of the dataset has heights below a certain value. What is\n",
    "the approximate height corresponding to this threshold?\n"
   ]
  },
  {
   "cell_type": "raw",
   "id": "93e806f6",
   "metadata": {},
   "source": [
    "From distribution or Empherical formula we can say that \n",
    "   \n",
    "   5% of data lies below 150 cm or above 190 cm\n",
    "   \n"
   ]
  },
  {
   "cell_type": "raw",
   "id": "ad332cad",
   "metadata": {},
   "source": [
    ". Calculate the coefficient of variation (CV) for the dataset.\n"
   ]
  },
  {
   "cell_type": "raw",
   "id": "339322c8",
   "metadata": {},
   "source": [
    "Coefficient of variance formul is given as \n",
    "    \n",
    "      (std/population mean) * 100\n",
    "        \n",
    "        std(sig)=10\n",
    "        populatiuon mean (mu)-170\n",
    "        \n",
    "    Then coefficient of variance is CV = (10/170) *100\n",
    "                                        =5.88"
   ]
  },
  {
   "cell_type": "raw",
   "id": "1dc6eab1",
   "metadata": {},
   "source": [
    " Calculate the skewness of the dataset and interpret the result."
   ]
  },
  {
   "cell_type": "raw",
   "id": "8c249698",
   "metadata": {},
   "source": [
    " The skew ness of normal data distribution is approximately equals to zero.\n",
    " For not normal distribution skew ness formula is given as \n",
    " \n",
    "     3(mean-median)/std"
   ]
  }
 ],
 "metadata": {
  "kernelspec": {
   "display_name": "Python 3 (ipykernel)",
   "language": "python",
   "name": "python3"
  },
  "language_info": {
   "codemirror_mode": {
    "name": "ipython",
    "version": 3
   },
   "file_extension": ".py",
   "mimetype": "text/x-python",
   "name": "python",
   "nbconvert_exporter": "python",
   "pygments_lexer": "ipython3",
   "version": "3.9.13"
  }
 },
 "nbformat": 4,
 "nbformat_minor": 5
}
