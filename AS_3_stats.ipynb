{
 "cells": [
  {
   "cell_type": "raw",
   "id": "c11dd0f7",
   "metadata": {},
   "source": [
    "Consider the ‘Blood Pressure Before’ and ‘Blood Pressure After’ columns from the\n",
    "data and calculate the following\n",
    "https://drive.google.com/file/d/1mCjtYHiX--mMUjicuaP2gH3k-SnFxt8Y/view?usp=share_\n",
    "a. Measure the dispersion in both and interpret the results.\n",
    "b. Calculate mean and 5% confidence interval and plot it in a graph\n",
    "c. Calculate the Mean absolute deviation and Standard deviation and interpret\n",
    "the results.\n",
    "d. Calculate the correlation coefficient and check the significance of it at 1% level\n",
    "of significance."
   ]
  },
  {
   "cell_type": "code",
   "execution_count": 1,
   "id": "156d59a7",
   "metadata": {},
   "outputs": [],
   "source": [
    "import pandas as pd\n",
    "df=pd.read_csv('data.csv')"
   ]
  },
  {
   "cell_type": "code",
   "execution_count": null,
   "id": "d581a9e3",
   "metadata": {},
   "outputs": [],
   "source": [
    "df.head(5)"
   ]
  },
  {
   "cell_type": "code",
   "execution_count": 3,
   "id": "d841b76e",
   "metadata": {},
   "outputs": [
    {
     "data": {
      "text/plain": [
       "(100, 3)"
      ]
     },
     "execution_count": 3,
     "metadata": {},
     "output_type": "execute_result"
    }
   ],
   "source": [
    "df.shape"
   ]
  },
  {
   "cell_type": "code",
   "execution_count": 4,
   "id": "f033a4e4",
   "metadata": {},
   "outputs": [
    {
     "data": {
      "text/plain": [
       "Index(['Patient ID', ' Blood Pressure Before (mmHg)',\n",
       "       ' Blood Pressure After (mmHg)'],\n",
       "      dtype='object')"
      ]
     },
     "execution_count": 4,
     "metadata": {},
     "output_type": "execute_result"
    }
   ],
   "source": [
    "df.columns"
   ]
  },
  {
   "cell_type": "code",
   "execution_count": 6,
   "id": "89c78a72",
   "metadata": {},
   "outputs": [
    {
     "data": {
      "text/html": [
       "<div>\n",
       "<style scoped>\n",
       "    .dataframe tbody tr th:only-of-type {\n",
       "        vertical-align: middle;\n",
       "    }\n",
       "\n",
       "    .dataframe tbody tr th {\n",
       "        vertical-align: top;\n",
       "    }\n",
       "\n",
       "    .dataframe thead th {\n",
       "        text-align: right;\n",
       "    }\n",
       "</style>\n",
       "<table border=\"1\" class=\"dataframe\">\n",
       "  <thead>\n",
       "    <tr style=\"text-align: right;\">\n",
       "      <th></th>\n",
       "      <th>Patient ID</th>\n",
       "      <th>Blood Pressure Before (mmHg)</th>\n",
       "      <th>Blood Pressure After (mmHg)</th>\n",
       "    </tr>\n",
       "  </thead>\n",
       "  <tbody>\n",
       "    <tr>\n",
       "      <th>0</th>\n",
       "      <td>1</td>\n",
       "      <td>130</td>\n",
       "      <td>120</td>\n",
       "    </tr>\n",
       "    <tr>\n",
       "      <th>1</th>\n",
       "      <td>2</td>\n",
       "      <td>142</td>\n",
       "      <td>135</td>\n",
       "    </tr>\n",
       "  </tbody>\n",
       "</table>\n",
       "</div>"
      ],
      "text/plain": [
       "   Patient ID   Blood Pressure Before (mmHg)   Blood Pressure After (mmHg)\n",
       "0           1                            130                           120\n",
       "1           2                            142                           135"
      ]
     },
     "execution_count": 6,
     "metadata": {},
     "output_type": "execute_result"
    }
   ],
   "source": [
    "df.head(2)"
   ]
  },
  {
   "cell_type": "raw",
   "id": "97783243",
   "metadata": {},
   "source": [
    "Measure the dispersion in both and interpret the result"
   ]
  },
  {
   "cell_type": "code",
   "execution_count": 12,
   "id": "2efee866",
   "metadata": {},
   "outputs": [],
   "source": [
    "#using formula method\n",
    "variable1=df[' Blood Pressure Before (mmHg)']  #declaring var1\n",
    "variable2=df[' Blood Pressure After (mmHg)']   #declaring var2\n",
    "\n",
    "len_var1=len(list(variable1))  #len of var1\n",
    "len_var2=len(list(variable2))  #len of var2\n",
    "\n",
    "var1_sum=sum(list(variable1))  #sum of var1\n",
    "var2_sum=sum(list(variable2))   #sum of var2\n",
    "\n",
    "var1_mean=var1_sum/len_var1    #mean of var1\n",
    "var2_mean=var2_sum/len_var2    #mean of var2\n",
    "\n",
    "var1_list=list(variable1)    #list of var1\n",
    "var2_list=list(variable2)    #list of var2"
   ]
  },
  {
   "cell_type": "code",
   "execution_count": 13,
   "id": "197dbbea",
   "metadata": {},
   "outputs": [],
   "source": [
    "var1_dis=[]\n",
    "for i in range(len(var1_list)):            #calculating xi-mu\n",
    "    resu=((var1_list[i]-(var1_mean)))**2\n",
    "    var1_dis.append(resu)\n",
    "    \n",
    "var1_dis_sum=sum(var1_dis)"
   ]
  },
  {
   "cell_type": "code",
   "execution_count": 16,
   "id": "8617bb07",
   "metadata": {},
   "outputs": [],
   "source": [
    "variance_var1=var1_dis_sum/len_var1    #applying formula"
   ]
  },
  {
   "cell_type": "code",
   "execution_count": 18,
   "id": "3992863c",
   "metadata": {},
   "outputs": [
    {
     "data": {
      "text/plain": [
       "43.10189999999998"
      ]
     },
     "execution_count": 18,
     "metadata": {},
     "output_type": "execute_result"
    }
   ],
   "source": [
    "variance_var1     #variance of variable 1"
   ]
  },
  {
   "cell_type": "code",
   "execution_count": 30,
   "id": "aaa289b0",
   "metadata": {},
   "outputs": [],
   "source": [
    "var2_dis=[]\n",
    "for i in range(len(var2_list)):          #calculating for variable 2\n",
    "    resu=((var2_list[i]-(var2_mean)))**2\n",
    "    var2_dis.append(resu)"
   ]
  },
  {
   "cell_type": "code",
   "execution_count": 31,
   "id": "a37594c1",
   "metadata": {},
   "outputs": [],
   "source": [
    "var2_dis_sum=sum(var2_dis)"
   ]
  },
  {
   "cell_type": "code",
   "execution_count": 32,
   "id": "63c1b71d",
   "metadata": {},
   "outputs": [],
   "source": [
    "variance_var2=var2_dis_sum/len_var2"
   ]
  },
  {
   "cell_type": "code",
   "execution_count": 33,
   "id": "c4d7d1e3",
   "metadata": {},
   "outputs": [
    {
     "data": {
      "text/plain": [
       "46.97040000000002"
      ]
     },
     "execution_count": 33,
     "metadata": {},
     "output_type": "execute_result"
    }
   ],
   "source": [
    "variance_var2   #variance of variable 2"
   ]
  },
  {
   "cell_type": "code",
   "execution_count": 34,
   "id": "47062398",
   "metadata": {},
   "outputs": [],
   "source": [
    " #Calculating using some buit in functions \n",
    "from statistics import variance\n",
    "\n",
    "var1=variance(variable1)\n",
    "var2=variance(variable2)"
   ]
  },
  {
   "cell_type": "code",
   "execution_count": 35,
   "id": "03abfca8",
   "metadata": {},
   "outputs": [
    {
     "data": {
      "text/plain": [
       "43.53727272727273"
      ]
     },
     "execution_count": 35,
     "metadata": {},
     "output_type": "execute_result"
    }
   ],
   "source": [
    "var1"
   ]
  },
  {
   "cell_type": "code",
   "execution_count": 36,
   "id": "e2e39dd7",
   "metadata": {},
   "outputs": [
    {
     "data": {
      "text/plain": [
       "47.444848484848485"
      ]
     },
     "execution_count": 36,
     "metadata": {},
     "output_type": "execute_result"
    }
   ],
   "source": [
    "var2"
   ]
  },
  {
   "cell_type": "raw",
   "id": "1bcacde7",
   "metadata": {},
   "source": [
    "b. Calculate mean and 5% confidence interval and plot it in a grap"
   ]
  },
  {
   "cell_type": "code",
   "execution_count": 37,
   "id": "8d7ec8c9",
   "metadata": {},
   "outputs": [
    {
     "ename": "NameError",
     "evalue": "name 'gfg_data' is not defined",
     "output_type": "error",
     "traceback": [
      "\u001b[1;31m---------------------------------------------------------------------------\u001b[0m",
      "\u001b[1;31mNameError\u001b[0m                                 Traceback (most recent call last)",
      "\u001b[1;32m~\\AppData\\Local\\Temp\\ipykernel_6352\\2689929357.py\u001b[0m in \u001b[0;36m<module>\u001b[1;34m\u001b[0m\n\u001b[0;32m      5\u001b[0m \u001b[1;33m\u001b[0m\u001b[0m\n\u001b[0;32m      6\u001b[0m st.t.interval(alpha=0.5,\n\u001b[1;32m----> 7\u001b[1;33m               \u001b[0mdf\u001b[0m\u001b[1;33m=\u001b[0m\u001b[0mlen\u001b[0m\u001b[1;33m(\u001b[0m\u001b[0mgfg_data\u001b[0m\u001b[1;33m)\u001b[0m\u001b[1;33m-\u001b[0m\u001b[1;36m1\u001b[0m\u001b[1;33m,\u001b[0m\u001b[1;33m\u001b[0m\u001b[1;33m\u001b[0m\u001b[0m\n\u001b[0m\u001b[0;32m      8\u001b[0m               \u001b[0mloc\u001b[0m\u001b[1;33m=\u001b[0m\u001b[0mnp\u001b[0m\u001b[1;33m.\u001b[0m\u001b[0mmean\u001b[0m\u001b[1;33m(\u001b[0m\u001b[0mgfg_data\u001b[0m\u001b[1;33m)\u001b[0m\u001b[1;33m,\u001b[0m\u001b[1;33m\u001b[0m\u001b[1;33m\u001b[0m\u001b[0m\n\u001b[0;32m      9\u001b[0m               scale=st.sem(gfg_data))\n",
      "\u001b[1;31mNameError\u001b[0m: name 'gfg_data' is not defined"
     ]
    }
   ],
   "source": [
    "import numpy as np\n",
    "import scipy.stats as st\n",
    "  \n",
    "gfg_data1= list(variable1)\n",
    "\n",
    "st.t.interval(alpha=0.5,\n",
    "              df=len(gfg_data)-1,\n",
    "              loc=np.mean(gfg_data), \n",
    "              scale=st.sem(gfg_data))"
   ]
  },
  {
   "cell_type": "code",
   "execution_count": 41,
   "id": "3c063517",
   "metadata": {},
   "outputs": [
    {
     "name": "stderr",
     "output_type": "stream",
     "text": [
      "C:\\Users\\WONDER\\AppData\\Local\\Temp\\ipykernel_6352\\4071300747.py:6: DeprecationWarning: Use of keyword argument `alpha` for method `interval` is deprecated. Use first positional argument or keyword argument `confidence` instead.\n",
      "  st.t.interval(alpha=0.5,\n"
     ]
    },
    {
     "data": {
      "text/plain": [
       "(127.8936974448704, 128.82630255512964)"
      ]
     },
     "execution_count": 41,
     "metadata": {},
     "output_type": "execute_result"
    }
   ],
   "source": [
    "import numpy as np\n",
    "import scipy.stats as st\n",
    "  \n",
    "gfg_data1= list(variable2)\n",
    "\n",
    "st.t.interval(alpha=0.5,\n",
    "              df=len(gfg_data)-1,\n",
    "              loc=np.mean(gfg_data1), \n",
    "              scale=st.sem(gfg_data1))"
   ]
  },
  {
   "cell_type": "code",
   "execution_count": 42,
   "id": "79618d70",
   "metadata": {},
   "outputs": [
    {
     "name": "stderr",
     "output_type": "stream",
     "text": [
      "C:\\Users\\WONDER\\AppData\\Local\\Temp\\ipykernel_6352\\2588671990.py:6: DeprecationWarning: Use of keyword argument `alpha` for method `interval` is deprecated. Use first positional argument or keyword argument `confidence` instead.\n",
      "  st.t.interval(alpha=0.5,\n"
     ]
    },
    {
     "data": {
      "text/plain": [
       "(127.8936974448704, 128.82630255512964)"
      ]
     },
     "execution_count": 42,
     "metadata": {},
     "output_type": "execute_result"
    }
   ],
   "source": [
    "import numpy as np\n",
    "import scipy.stats as st\n",
    "  \n",
    "gfg_data2= list(variable2)\n",
    "\n",
    "st.t.interval(alpha=0.5,\n",
    "              df=len(gfg_data)-1,\n",
    "              loc=np.mean(gfg_data), \n",
    "              scale=st.sem(gfg_data))"
   ]
  },
  {
   "cell_type": "code",
   "execution_count": 43,
   "id": "cebaf872",
   "metadata": {},
   "outputs": [
    {
     "name": "stderr",
     "output_type": "stream",
     "text": [
      "C:\\Users\\WONDER\\anaconda3\\lib\\site-packages\\seaborn\\_decorators.py:36: FutureWarning: Pass the following variables as keyword args: x, y. From version 0.12, the only valid positional argument will be `data`, and passing other arguments without an explicit keyword will result in an error or misinterpretation.\n",
      "  warnings.warn(\n"
     ]
    },
    {
     "data": {
      "image/png": "[encoded data removed]",
      "text/plain": [
       "<Figure size 640x480 with 1 Axes>"
      ]
     },
     "metadata": {},
     "output_type": "display_data"
    }
   ],
   "source": [
    "import seaborn as sns\n",
    "import matplotlib.pyplot as plt\n",
    "x=gfg_data1\n",
    "y=gfg_data2\n",
    "ax = sns.regplot(x, y, ci=0.5)"
   ]
  },
  {
   "cell_type": "code",
   "execution_count": null,
   "id": "f2613034",
   "metadata": {},
   "outputs": [],
   "source": []
  },
  {
   "cell_type": "raw",
   "id": "ab62332c",
   "metadata": {},
   "source": [
    ". Calculate the Mean absolute deviation and Standard deviation and interpret\n",
    "the results."
   ]
  },
  {
   "cell_type": "code",
   "execution_count": 44,
   "id": "e7f9e42f",
   "metadata": {},
   "outputs": [
    {
     "data": {
      "text/plain": [
       "133.91"
      ]
     },
     "execution_count": 44,
     "metadata": {},
     "output_type": "execute_result"
    }
   ],
   "source": [
    "var1_mean"
   ]
  },
  {
   "cell_type": "code",
   "execution_count": 45,
   "id": "eb6f989e",
   "metadata": {},
   "outputs": [
    {
     "data": {
      "text/plain": [
       "128.36"
      ]
     },
     "execution_count": 45,
     "metadata": {},
     "output_type": "execute_result"
    }
   ],
   "source": [
    "var2_mean"
   ]
  },
  {
   "cell_type": "code",
   "execution_count": 46,
   "id": "af6beec8",
   "metadata": {},
   "outputs": [],
   "source": [
    "var11_dis=[]                                      #Mad calculation using forumla  for var1\n",
    "for i in range(len(var1_list)):\n",
    "    resu=abs((var1_list[i]-(var1_mean)))\n",
    "    var11_dis.append(resu)"
   ]
  },
  {
   "cell_type": "code",
   "execution_count": 47,
   "id": "9d5be5eb",
   "metadata": {},
   "outputs": [],
   "source": [
    "var22_dis=[]\n",
    "for i in range(len(var2_list)):                   #Mad calculation using forumla  for var2\n",
    "    resu=abs((var2_list[i]-(var1_mean)))\n",
    "    var22_dis.append(resu)"
   ]
  },
  {
   "cell_type": "code",
   "execution_count": 48,
   "id": "60e0b637",
   "metadata": {},
   "outputs": [],
   "source": [
    "var11_dis=sum(var11_dis)      #summing result for var1"
   ]
  },
  {
   "cell_type": "code",
   "execution_count": 49,
   "id": "929165db",
   "metadata": {},
   "outputs": [],
   "source": [
    "var22_dis=sum(var22_dis)      #summing result for var2"
   ]
  },
  {
   "cell_type": "code",
   "execution_count": 51,
   "id": "848272b4",
   "metadata": {},
   "outputs": [],
   "source": [
    "vari_mad=var11_dis/len_var1     #applying formula"
   ]
  },
  {
   "cell_type": "code",
   "execution_count": 52,
   "id": "5836fecc",
   "metadata": {},
   "outputs": [
    {
     "data": {
      "text/plain": [
       "5.7118"
      ]
     },
     "execution_count": 52,
     "metadata": {},
     "output_type": "execute_result"
    }
   ],
   "source": [
    "vari_mad   #result of mad variable1"
   ]
  },
  {
   "cell_type": "code",
   "execution_count": 54,
   "id": "ae2c720a",
   "metadata": {},
   "outputs": [],
   "source": [
    "vari2_mad=var22_dis/len_var2     #applying formula"
   ]
  },
  {
   "cell_type": "code",
   "execution_count": 56,
   "id": "00bc9559",
   "metadata": {},
   "outputs": [
    {
     "data": {
      "text/plain": [
       "7.582199999999991"
      ]
     },
     "execution_count": 56,
     "metadata": {},
     "output_type": "execute_result"
    }
   ],
   "source": [
    "vari2_mad    #result of mad variable1"
   ]
  },
  {
   "cell_type": "code",
   "execution_count": 58,
   "id": "9164a7e8",
   "metadata": {},
   "outputs": [
    {
     "data": {
      "text/plain": [
       "5.7118"
      ]
     },
     "execution_count": 58,
     "metadata": {},
     "output_type": "execute_result"
    }
   ],
   "source": [
    "# Calculating mad using some built in functions\n",
    "series=pd.Series(variable1)\n",
    "result = series.mad()\n",
    "result       #var1"
   ]
  },
  {
   "cell_type": "code",
   "execution_count": 60,
   "id": "ca2cafdc",
   "metadata": {},
   "outputs": [
    {
     "data": {
      "text/plain": [
       "5.9"
      ]
     },
     "execution_count": 60,
     "metadata": {},
     "output_type": "execute_result"
    }
   ],
   "source": [
    "series=pd.Series(variable2)\n",
    "result = series.mad()\n",
    "result       #var2"
   ]
  },
  {
   "cell_type": "raw",
   "id": "f4ef2594",
   "metadata": {},
   "source": [
    ". Calculate the correlation coefficient and check the significance of it at 1% level\n",
    "of significance."
   ]
  },
  {
   "cell_type": "code",
   "execution_count": 61,
   "id": "5f5a0470",
   "metadata": {},
   "outputs": [],
   "source": [
    "from scipy.stats import pearsonr\n",
    "corr,kk=pearsonr(variable1,variable2)"
   ]
  },
  {
   "cell_type": "code",
   "execution_count": 62,
   "id": "1cf65d12",
   "metadata": {},
   "outputs": [
    {
     "data": {
      "text/plain": [
       "0.9779485966556019"
      ]
     },
     "execution_count": 62,
     "metadata": {},
     "output_type": "execute_result"
    }
   ],
   "source": [
    "corr"
   ]
  },
  {
   "cell_type": "code",
   "execution_count": 63,
   "id": "a0a77d72",
   "metadata": {},
   "outputs": [
    {
     "data": {
      "text/plain": [
       "LinregressResult(slope=1.0208923504532286, intercept=-8.347694649191823, rvalue=0.9779485966556021, pvalue=1.8097381433059774e-68, stderr=0.022023001123859645, intercept_stderr=2.952642248637497)"
      ]
     },
     "execution_count": 63,
     "metadata": {},
     "output_type": "execute_result"
    }
   ],
   "source": [
    "from scipy.stats import linregress\n",
    "linregress(variable1, variable2)   #from these we maty get four values vhewre"
   ]
  },
  {
   "cell_type": "code",
   "execution_count": null,
   "id": "cb4b28a0",
   "metadata": {},
   "outputs": [],
   "source": []
  }
 ],
 "metadata": {
  "kernelspec": {
   "display_name": "Python 3 (ipykernel)",
   "language": "python",
   "name": "python3"
  },
  "language_info": {
   "codemirror_mode": {
    "name": "ipython",
    "version": 3
   },
   "file_extension": ".py",
   "mimetype": "text/x-python",
   "name": "python",
   "nbconvert_exporter": "python",
   "pygments_lexer": "ipython3",
   "version": "3.9.13"
  }
 },
 "nbformat": 4,
 "nbformat_minor": 5
}
