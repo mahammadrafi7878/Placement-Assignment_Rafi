{
 "cells": [
  {
   "cell_type": "raw",
   "id": "07c0e090",
   "metadata": {},
   "source": [
    "2. Imagine you have a dataset where you have different features like Age ,\n",
    "Gender , Height , Weight , BMI , and Blood Pressure and you have to classify the people into\n",
    "different classes like Normal , Overweight , Obesity , Underweight , and Extreme Obesity by using\n",
    "any 4 different classification algorithms. Now you have to build a model which\n",
    "can classify people into different classes.\n",
    "Dataset This is the Dataset You can use this dataset for this question."
   ]
  },
  {
   "cell_type": "code",
   "execution_count": 330,
   "id": "3db1ded9",
   "metadata": {},
   "outputs": [],
   "source": [
    "from scipy.io import arff\n",
    "import pandas as pd \n",
    "data = arff.loadarff('ObesityDataSet.arff')       #reading arrf file"
   ]
  },
  {
   "cell_type": "code",
   "execution_count": 331,
   "id": "a80d0c08",
   "metadata": {},
   "outputs": [
    {
     "data": {
      "text/plain": [
       "tuple"
      ]
     },
     "execution_count": 331,
     "metadata": {},
     "output_type": "execute_result"
    }
   ],
   "source": [
    "type(data)"
   ]
  },
  {
   "cell_type": "code",
   "execution_count": 332,
   "id": "ddf43190",
   "metadata": {},
   "outputs": [
    {
     "data": {
      "text/plain": [
       "numpy.ndarray"
      ]
     },
     "execution_count": 332,
     "metadata": {},
     "output_type": "execute_result"
    }
   ],
   "source": [
    "type(data[0])"
   ]
  },
  {
   "cell_type": "code",
   "execution_count": 334,
   "id": "53dd0930",
   "metadata": {},
   "outputs": [],
   "source": [
    "df=pd.DataFrame(data[0])     #converting arrf file into data frame "
   ]
  },
  {
   "cell_type": "code",
   "execution_count": 335,
   "id": "9156f47c",
   "metadata": {},
   "outputs": [
    {
     "data": {
      "text/html": [
       "<div>\n",
       "<style scoped>\n",
       "    .dataframe tbody tr th:only-of-type {\n",
       "        vertical-align: middle;\n",
       "    }\n",
       "\n",
       "    .dataframe tbody tr th {\n",
       "        vertical-align: top;\n",
       "    }\n",
       "\n",
       "    .dataframe thead th {\n",
       "        text-align: right;\n",
       "    }\n",
       "</style>\n",
       "<table border=\"1\" class=\"dataframe\">\n",
       "  <thead>\n",
       "    <tr style=\"text-align: right;\">\n",
       "      <th></th>\n",
       "      <th>Gender</th>\n",
       "      <th>Age</th>\n",
       "      <th>Height</th>\n",
       "      <th>Weight</th>\n",
       "      <th>family_history_with_overweight</th>\n",
       "      <th>FAVC</th>\n",
       "      <th>FCVC</th>\n",
       "      <th>NCP</th>\n",
       "      <th>CAEC</th>\n",
       "      <th>SMOKE</th>\n",
       "      <th>CH2O</th>\n",
       "      <th>SCC</th>\n",
       "      <th>FAF</th>\n",
       "      <th>TUE</th>\n",
       "      <th>CALC</th>\n",
       "      <th>MTRANS</th>\n",
       "      <th>NObeyesdad</th>\n",
       "    </tr>\n",
       "  </thead>\n",
       "  <tbody>\n",
       "    <tr>\n",
       "      <th>0</th>\n",
       "      <td>b'Female'</td>\n",
       "      <td>21.000000</td>\n",
       "      <td>1.620000</td>\n",
       "      <td>64.000000</td>\n",
       "      <td>b'yes'</td>\n",
       "      <td>b'no'</td>\n",
       "      <td>2.0</td>\n",
       "      <td>3.0</td>\n",
       "      <td>b'Sometimes'</td>\n",
       "      <td>b'no'</td>\n",
       "      <td>2.000000</td>\n",
       "      <td>b'no'</td>\n",
       "      <td>0.000000</td>\n",
       "      <td>1.000000</td>\n",
       "      <td>b'no'</td>\n",
       "      <td>b'Public_Transportation'</td>\n",
       "      <td>b'Normal_Weight'</td>\n",
       "    </tr>\n",
       "    <tr>\n",
       "      <th>1</th>\n",
       "      <td>b'Female'</td>\n",
       "      <td>21.000000</td>\n",
       "      <td>1.520000</td>\n",
       "      <td>56.000000</td>\n",
       "      <td>b'yes'</td>\n",
       "      <td>b'no'</td>\n",
       "      <td>3.0</td>\n",
       "      <td>3.0</td>\n",
       "      <td>b'Sometimes'</td>\n",
       "      <td>b'yes'</td>\n",
       "      <td>3.000000</td>\n",
       "      <td>b'yes'</td>\n",
       "      <td>3.000000</td>\n",
       "      <td>0.000000</td>\n",
       "      <td>b'Sometimes'</td>\n",
       "      <td>b'Public_Transportation'</td>\n",
       "      <td>b'Normal_Weight'</td>\n",
       "    </tr>\n",
       "    <tr>\n",
       "      <th>2</th>\n",
       "      <td>b'Male'</td>\n",
       "      <td>23.000000</td>\n",
       "      <td>1.800000</td>\n",
       "      <td>77.000000</td>\n",
       "      <td>b'yes'</td>\n",
       "      <td>b'no'</td>\n",
       "      <td>2.0</td>\n",
       "      <td>3.0</td>\n",
       "      <td>b'Sometimes'</td>\n",
       "      <td>b'no'</td>\n",
       "      <td>2.000000</td>\n",
       "      <td>b'no'</td>\n",
       "      <td>2.000000</td>\n",
       "      <td>1.000000</td>\n",
       "      <td>b'Frequently'</td>\n",
       "      <td>b'Public_Transportation'</td>\n",
       "      <td>b'Normal_Weight'</td>\n",
       "    </tr>\n",
       "    <tr>\n",
       "      <th>3</th>\n",
       "      <td>b'Male'</td>\n",
       "      <td>27.000000</td>\n",
       "      <td>1.800000</td>\n",
       "      <td>87.000000</td>\n",
       "      <td>b'no'</td>\n",
       "      <td>b'no'</td>\n",
       "      <td>3.0</td>\n",
       "      <td>3.0</td>\n",
       "      <td>b'Sometimes'</td>\n",
       "      <td>b'no'</td>\n",
       "      <td>2.000000</td>\n",
       "      <td>b'no'</td>\n",
       "      <td>2.000000</td>\n",
       "      <td>0.000000</td>\n",
       "      <td>b'Frequently'</td>\n",
       "      <td>b'Walking'</td>\n",
       "      <td>b'Overweight_Level_I'</td>\n",
       "    </tr>\n",
       "    <tr>\n",
       "      <th>4</th>\n",
       "      <td>b'Male'</td>\n",
       "      <td>22.000000</td>\n",
       "      <td>1.780000</td>\n",
       "      <td>89.800000</td>\n",
       "      <td>b'no'</td>\n",
       "      <td>b'no'</td>\n",
       "      <td>2.0</td>\n",
       "      <td>1.0</td>\n",
       "      <td>b'Sometimes'</td>\n",
       "      <td>b'no'</td>\n",
       "      <td>2.000000</td>\n",
       "      <td>b'no'</td>\n",
       "      <td>0.000000</td>\n",
       "      <td>0.000000</td>\n",
       "      <td>b'Sometimes'</td>\n",
       "      <td>b'Public_Transportation'</td>\n",
       "      <td>b'Overweight_Level_II'</td>\n",
       "    </tr>\n",
       "    <tr>\n",
       "      <th>...</th>\n",
       "      <td>...</td>\n",
       "      <td>...</td>\n",
       "      <td>...</td>\n",
       "      <td>...</td>\n",
       "      <td>...</td>\n",
       "      <td>...</td>\n",
       "      <td>...</td>\n",
       "      <td>...</td>\n",
       "      <td>...</td>\n",
       "      <td>...</td>\n",
       "      <td>...</td>\n",
       "      <td>...</td>\n",
       "      <td>...</td>\n",
       "      <td>...</td>\n",
       "      <td>...</td>\n",
       "      <td>...</td>\n",
       "      <td>...</td>\n",
       "    </tr>\n",
       "    <tr>\n",
       "      <th>2106</th>\n",
       "      <td>b'Female'</td>\n",
       "      <td>20.976842</td>\n",
       "      <td>1.710730</td>\n",
       "      <td>131.408528</td>\n",
       "      <td>b'yes'</td>\n",
       "      <td>b'yes'</td>\n",
       "      <td>3.0</td>\n",
       "      <td>3.0</td>\n",
       "      <td>b'Sometimes'</td>\n",
       "      <td>b'no'</td>\n",
       "      <td>1.728139</td>\n",
       "      <td>b'no'</td>\n",
       "      <td>1.676269</td>\n",
       "      <td>0.906247</td>\n",
       "      <td>b'Sometimes'</td>\n",
       "      <td>b'Public_Transportation'</td>\n",
       "      <td>b'Obesity_Type_III'</td>\n",
       "    </tr>\n",
       "    <tr>\n",
       "      <th>2107</th>\n",
       "      <td>b'Female'</td>\n",
       "      <td>21.982942</td>\n",
       "      <td>1.748584</td>\n",
       "      <td>133.742943</td>\n",
       "      <td>b'yes'</td>\n",
       "      <td>b'yes'</td>\n",
       "      <td>3.0</td>\n",
       "      <td>3.0</td>\n",
       "      <td>b'Sometimes'</td>\n",
       "      <td>b'no'</td>\n",
       "      <td>2.005130</td>\n",
       "      <td>b'no'</td>\n",
       "      <td>1.341390</td>\n",
       "      <td>0.599270</td>\n",
       "      <td>b'Sometimes'</td>\n",
       "      <td>b'Public_Transportation'</td>\n",
       "      <td>b'Obesity_Type_III'</td>\n",
       "    </tr>\n",
       "    <tr>\n",
       "      <th>2108</th>\n",
       "      <td>b'Female'</td>\n",
       "      <td>22.524036</td>\n",
       "      <td>1.752206</td>\n",
       "      <td>133.689352</td>\n",
       "      <td>b'yes'</td>\n",
       "      <td>b'yes'</td>\n",
       "      <td>3.0</td>\n",
       "      <td>3.0</td>\n",
       "      <td>b'Sometimes'</td>\n",
       "      <td>b'no'</td>\n",
       "      <td>2.054193</td>\n",
       "      <td>b'no'</td>\n",
       "      <td>1.414209</td>\n",
       "      <td>0.646288</td>\n",
       "      <td>b'Sometimes'</td>\n",
       "      <td>b'Public_Transportation'</td>\n",
       "      <td>b'Obesity_Type_III'</td>\n",
       "    </tr>\n",
       "    <tr>\n",
       "      <th>2109</th>\n",
       "      <td>b'Female'</td>\n",
       "      <td>24.361936</td>\n",
       "      <td>1.739450</td>\n",
       "      <td>133.346641</td>\n",
       "      <td>b'yes'</td>\n",
       "      <td>b'yes'</td>\n",
       "      <td>3.0</td>\n",
       "      <td>3.0</td>\n",
       "      <td>b'Sometimes'</td>\n",
       "      <td>b'no'</td>\n",
       "      <td>2.852339</td>\n",
       "      <td>b'no'</td>\n",
       "      <td>1.139107</td>\n",
       "      <td>0.586035</td>\n",
       "      <td>b'Sometimes'</td>\n",
       "      <td>b'Public_Transportation'</td>\n",
       "      <td>b'Obesity_Type_III'</td>\n",
       "    </tr>\n",
       "    <tr>\n",
       "      <th>2110</th>\n",
       "      <td>b'Female'</td>\n",
       "      <td>23.664709</td>\n",
       "      <td>1.738836</td>\n",
       "      <td>133.472641</td>\n",
       "      <td>b'yes'</td>\n",
       "      <td>b'yes'</td>\n",
       "      <td>3.0</td>\n",
       "      <td>3.0</td>\n",
       "      <td>b'Sometimes'</td>\n",
       "      <td>b'no'</td>\n",
       "      <td>2.863513</td>\n",
       "      <td>b'no'</td>\n",
       "      <td>1.026452</td>\n",
       "      <td>0.714137</td>\n",
       "      <td>b'Sometimes'</td>\n",
       "      <td>b'Public_Transportation'</td>\n",
       "      <td>b'Obesity_Type_III'</td>\n",
       "    </tr>\n",
       "  </tbody>\n",
       "</table>\n",
       "<p>2111 rows × 17 columns</p>\n",
       "</div>"
      ],
      "text/plain": [
       "         Gender        Age    Height      Weight  \\\n",
       "0     b'Female'  21.000000  1.620000   64.000000   \n",
       "1     b'Female'  21.000000  1.520000   56.000000   \n",
       "2       b'Male'  23.000000  1.800000   77.000000   \n",
       "3       b'Male'  27.000000  1.800000   87.000000   \n",
       "4       b'Male'  22.000000  1.780000   89.800000   \n",
       "...         ...        ...       ...         ...   \n",
       "2106  b'Female'  20.976842  1.710730  131.408528   \n",
       "2107  b'Female'  21.982942  1.748584  133.742943   \n",
       "2108  b'Female'  22.524036  1.752206  133.689352   \n",
       "2109  b'Female'  24.361936  1.739450  133.346641   \n",
       "2110  b'Female'  23.664709  1.738836  133.472641   \n",
       "\n",
       "     family_history_with_overweight    FAVC  FCVC  NCP          CAEC   SMOKE  \\\n",
       "0                            b'yes'   b'no'   2.0  3.0  b'Sometimes'   b'no'   \n",
       "1                            b'yes'   b'no'   3.0  3.0  b'Sometimes'  b'yes'   \n",
       "2                            b'yes'   b'no'   2.0  3.0  b'Sometimes'   b'no'   \n",
       "3                             b'no'   b'no'   3.0  3.0  b'Sometimes'   b'no'   \n",
       "4                             b'no'   b'no'   2.0  1.0  b'Sometimes'   b'no'   \n",
       "...                             ...     ...   ...  ...           ...     ...   \n",
       "2106                         b'yes'  b'yes'   3.0  3.0  b'Sometimes'   b'no'   \n",
       "2107                         b'yes'  b'yes'   3.0  3.0  b'Sometimes'   b'no'   \n",
       "2108                         b'yes'  b'yes'   3.0  3.0  b'Sometimes'   b'no'   \n",
       "2109                         b'yes'  b'yes'   3.0  3.0  b'Sometimes'   b'no'   \n",
       "2110                         b'yes'  b'yes'   3.0  3.0  b'Sometimes'   b'no'   \n",
       "\n",
       "          CH2O     SCC       FAF       TUE           CALC  \\\n",
       "0     2.000000   b'no'  0.000000  1.000000          b'no'   \n",
       "1     3.000000  b'yes'  3.000000  0.000000   b'Sometimes'   \n",
       "2     2.000000   b'no'  2.000000  1.000000  b'Frequently'   \n",
       "3     2.000000   b'no'  2.000000  0.000000  b'Frequently'   \n",
       "4     2.000000   b'no'  0.000000  0.000000   b'Sometimes'   \n",
       "...        ...     ...       ...       ...            ...   \n",
       "2106  1.728139   b'no'  1.676269  0.906247   b'Sometimes'   \n",
       "2107  2.005130   b'no'  1.341390  0.599270   b'Sometimes'   \n",
       "2108  2.054193   b'no'  1.414209  0.646288   b'Sometimes'   \n",
       "2109  2.852339   b'no'  1.139107  0.586035   b'Sometimes'   \n",
       "2110  2.863513   b'no'  1.026452  0.714137   b'Sometimes'   \n",
       "\n",
       "                        MTRANS              NObeyesdad  \n",
       "0     b'Public_Transportation'        b'Normal_Weight'  \n",
       "1     b'Public_Transportation'        b'Normal_Weight'  \n",
       "2     b'Public_Transportation'        b'Normal_Weight'  \n",
       "3                   b'Walking'   b'Overweight_Level_I'  \n",
       "4     b'Public_Transportation'  b'Overweight_Level_II'  \n",
       "...                        ...                     ...  \n",
       "2106  b'Public_Transportation'     b'Obesity_Type_III'  \n",
       "2107  b'Public_Transportation'     b'Obesity_Type_III'  \n",
       "2108  b'Public_Transportation'     b'Obesity_Type_III'  \n",
       "2109  b'Public_Transportation'     b'Obesity_Type_III'  \n",
       "2110  b'Public_Transportation'     b'Obesity_Type_III'  \n",
       "\n",
       "[2111 rows x 17 columns]"
      ]
     },
     "execution_count": 335,
     "metadata": {},
     "output_type": "execute_result"
    }
   ],
   "source": [
    "df"
   ]
  },
  {
   "cell_type": "code",
   "execution_count": 336,
   "id": "c022770d",
   "metadata": {},
   "outputs": [
    {
     "data": {
      "text/plain": [
       "Index(['Gender', 'Age', 'Height', 'Weight', 'family_history_with_overweight',\n",
       "       'FAVC', 'FCVC', 'NCP', 'CAEC', 'SMOKE', 'CH2O', 'SCC', 'FAF', 'TUE',\n",
       "       'CALC', 'MTRANS', 'NObeyesdad'],\n",
       "      dtype='object')"
      ]
     },
     "execution_count": 336,
     "metadata": {},
     "output_type": "execute_result"
    }
   ],
   "source": [
    "df.columns"
   ]
  },
  {
   "cell_type": "code",
   "execution_count": 337,
   "id": "fb1da3ab",
   "metadata": {},
   "outputs": [
    {
     "data": {
      "text/plain": [
       "Gender                             object\n",
       "Age                               float64\n",
       "Height                            float64\n",
       "Weight                            float64\n",
       "family_history_with_overweight     object\n",
       "FAVC                               object\n",
       "FCVC                              float64\n",
       "NCP                               float64\n",
       "CAEC                               object\n",
       "SMOKE                              object\n",
       "CH2O                              float64\n",
       "SCC                                object\n",
       "FAF                               float64\n",
       "TUE                               float64\n",
       "CALC                               object\n",
       "MTRANS                             object\n",
       "NObeyesdad                         object\n",
       "dtype: object"
      ]
     },
     "execution_count": 337,
     "metadata": {},
     "output_type": "execute_result"
    }
   ],
   "source": [
    "df.dtypes"
   ]
  },
  {
   "cell_type": "code",
   "execution_count": 338,
   "id": "00ea2021",
   "metadata": {},
   "outputs": [
    {
     "data": {
      "text/plain": [
       "(2111, 17)"
      ]
     },
     "execution_count": 338,
     "metadata": {},
     "output_type": "execute_result"
    }
   ],
   "source": [
    "df.shape"
   ]
  },
  {
   "cell_type": "code",
   "execution_count": 339,
   "id": "52296501",
   "metadata": {},
   "outputs": [
    {
     "data": {
      "text/plain": [
       "bytes"
      ]
     },
     "execution_count": 339,
     "metadata": {},
     "output_type": "execute_result"
    }
   ],
   "source": [
    "type(df[\"NObeyesdad\"][0])"
   ]
  },
  {
   "cell_type": "code",
   "execution_count": 340,
   "id": "72302596",
   "metadata": {},
   "outputs": [],
   "source": [
    "def convert_b(df):\n",
    "    for i in df.columns:\n",
    "        if df[i].dtype=='object':\n",
    "            df[i]=df[i].str.decode('utf-8')           #writing a function for converting bytes type data into string type\n",
    "    return df"
   ]
  },
  {
   "cell_type": "code",
   "execution_count": 341,
   "id": "445454ef",
   "metadata": {},
   "outputs": [
    {
     "data": {
      "text/html": [
       "<div>\n",
       "<style scoped>\n",
       "    .dataframe tbody tr th:only-of-type {\n",
       "        vertical-align: middle;\n",
       "    }\n",
       "\n",
       "    .dataframe tbody tr th {\n",
       "        vertical-align: top;\n",
       "    }\n",
       "\n",
       "    .dataframe thead th {\n",
       "        text-align: right;\n",
       "    }\n",
       "</style>\n",
       "<table border=\"1\" class=\"dataframe\">\n",
       "  <thead>\n",
       "    <tr style=\"text-align: right;\">\n",
       "      <th></th>\n",
       "      <th>Gender</th>\n",
       "      <th>Age</th>\n",
       "      <th>Height</th>\n",
       "      <th>Weight</th>\n",
       "      <th>family_history_with_overweight</th>\n",
       "      <th>FAVC</th>\n",
       "      <th>FCVC</th>\n",
       "      <th>NCP</th>\n",
       "      <th>CAEC</th>\n",
       "      <th>SMOKE</th>\n",
       "      <th>CH2O</th>\n",
       "      <th>SCC</th>\n",
       "      <th>FAF</th>\n",
       "      <th>TUE</th>\n",
       "      <th>CALC</th>\n",
       "      <th>MTRANS</th>\n",
       "      <th>NObeyesdad</th>\n",
       "    </tr>\n",
       "  </thead>\n",
       "  <tbody>\n",
       "    <tr>\n",
       "      <th>0</th>\n",
       "      <td>Female</td>\n",
       "      <td>21.000000</td>\n",
       "      <td>1.620000</td>\n",
       "      <td>64.000000</td>\n",
       "      <td>yes</td>\n",
       "      <td>no</td>\n",
       "      <td>2.0</td>\n",
       "      <td>3.0</td>\n",
       "      <td>Sometimes</td>\n",
       "      <td>no</td>\n",
       "      <td>2.000000</td>\n",
       "      <td>no</td>\n",
       "      <td>0.000000</td>\n",
       "      <td>1.000000</td>\n",
       "      <td>no</td>\n",
       "      <td>Public_Transportation</td>\n",
       "      <td>Normal_Weight</td>\n",
       "    </tr>\n",
       "    <tr>\n",
       "      <th>1</th>\n",
       "      <td>Female</td>\n",
       "      <td>21.000000</td>\n",
       "      <td>1.520000</td>\n",
       "      <td>56.000000</td>\n",
       "      <td>yes</td>\n",
       "      <td>no</td>\n",
       "      <td>3.0</td>\n",
       "      <td>3.0</td>\n",
       "      <td>Sometimes</td>\n",
       "      <td>yes</td>\n",
       "      <td>3.000000</td>\n",
       "      <td>yes</td>\n",
       "      <td>3.000000</td>\n",
       "      <td>0.000000</td>\n",
       "      <td>Sometimes</td>\n",
       "      <td>Public_Transportation</td>\n",
       "      <td>Normal_Weight</td>\n",
       "    </tr>\n",
       "    <tr>\n",
       "      <th>2</th>\n",
       "      <td>Male</td>\n",
       "      <td>23.000000</td>\n",
       "      <td>1.800000</td>\n",
       "      <td>77.000000</td>\n",
       "      <td>yes</td>\n",
       "      <td>no</td>\n",
       "      <td>2.0</td>\n",
       "      <td>3.0</td>\n",
       "      <td>Sometimes</td>\n",
       "      <td>no</td>\n",
       "      <td>2.000000</td>\n",
       "      <td>no</td>\n",
       "      <td>2.000000</td>\n",
       "      <td>1.000000</td>\n",
       "      <td>Frequently</td>\n",
       "      <td>Public_Transportation</td>\n",
       "      <td>Normal_Weight</td>\n",
       "    </tr>\n",
       "    <tr>\n",
       "      <th>3</th>\n",
       "      <td>Male</td>\n",
       "      <td>27.000000</td>\n",
       "      <td>1.800000</td>\n",
       "      <td>87.000000</td>\n",
       "      <td>no</td>\n",
       "      <td>no</td>\n",
       "      <td>3.0</td>\n",
       "      <td>3.0</td>\n",
       "      <td>Sometimes</td>\n",
       "      <td>no</td>\n",
       "      <td>2.000000</td>\n",
       "      <td>no</td>\n",
       "      <td>2.000000</td>\n",
       "      <td>0.000000</td>\n",
       "      <td>Frequently</td>\n",
       "      <td>Walking</td>\n",
       "      <td>Overweight_Level_I</td>\n",
       "    </tr>\n",
       "    <tr>\n",
       "      <th>4</th>\n",
       "      <td>Male</td>\n",
       "      <td>22.000000</td>\n",
       "      <td>1.780000</td>\n",
       "      <td>89.800000</td>\n",
       "      <td>no</td>\n",
       "      <td>no</td>\n",
       "      <td>2.0</td>\n",
       "      <td>1.0</td>\n",
       "      <td>Sometimes</td>\n",
       "      <td>no</td>\n",
       "      <td>2.000000</td>\n",
       "      <td>no</td>\n",
       "      <td>0.000000</td>\n",
       "      <td>0.000000</td>\n",
       "      <td>Sometimes</td>\n",
       "      <td>Public_Transportation</td>\n",
       "      <td>Overweight_Level_II</td>\n",
       "    </tr>\n",
       "    <tr>\n",
       "      <th>...</th>\n",
       "      <td>...</td>\n",
       "      <td>...</td>\n",
       "      <td>...</td>\n",
       "      <td>...</td>\n",
       "      <td>...</td>\n",
       "      <td>...</td>\n",
       "      <td>...</td>\n",
       "      <td>...</td>\n",
       "      <td>...</td>\n",
       "      <td>...</td>\n",
       "      <td>...</td>\n",
       "      <td>...</td>\n",
       "      <td>...</td>\n",
       "      <td>...</td>\n",
       "      <td>...</td>\n",
       "      <td>...</td>\n",
       "      <td>...</td>\n",
       "    </tr>\n",
       "    <tr>\n",
       "      <th>2106</th>\n",
       "      <td>Female</td>\n",
       "      <td>20.976842</td>\n",
       "      <td>1.710730</td>\n",
       "      <td>131.408528</td>\n",
       "      <td>yes</td>\n",
       "      <td>yes</td>\n",
       "      <td>3.0</td>\n",
       "      <td>3.0</td>\n",
       "      <td>Sometimes</td>\n",
       "      <td>no</td>\n",
       "      <td>1.728139</td>\n",
       "      <td>no</td>\n",
       "      <td>1.676269</td>\n",
       "      <td>0.906247</td>\n",
       "      <td>Sometimes</td>\n",
       "      <td>Public_Transportation</td>\n",
       "      <td>Obesity_Type_III</td>\n",
       "    </tr>\n",
       "    <tr>\n",
       "      <th>2107</th>\n",
       "      <td>Female</td>\n",
       "      <td>21.982942</td>\n",
       "      <td>1.748584</td>\n",
       "      <td>133.742943</td>\n",
       "      <td>yes</td>\n",
       "      <td>yes</td>\n",
       "      <td>3.0</td>\n",
       "      <td>3.0</td>\n",
       "      <td>Sometimes</td>\n",
       "      <td>no</td>\n",
       "      <td>2.005130</td>\n",
       "      <td>no</td>\n",
       "      <td>1.341390</td>\n",
       "      <td>0.599270</td>\n",
       "      <td>Sometimes</td>\n",
       "      <td>Public_Transportation</td>\n",
       "      <td>Obesity_Type_III</td>\n",
       "    </tr>\n",
       "    <tr>\n",
       "      <th>2108</th>\n",
       "      <td>Female</td>\n",
       "      <td>22.524036</td>\n",
       "      <td>1.752206</td>\n",
       "      <td>133.689352</td>\n",
       "      <td>yes</td>\n",
       "      <td>yes</td>\n",
       "      <td>3.0</td>\n",
       "      <td>3.0</td>\n",
       "      <td>Sometimes</td>\n",
       "      <td>no</td>\n",
       "      <td>2.054193</td>\n",
       "      <td>no</td>\n",
       "      <td>1.414209</td>\n",
       "      <td>0.646288</td>\n",
       "      <td>Sometimes</td>\n",
       "      <td>Public_Transportation</td>\n",
       "      <td>Obesity_Type_III</td>\n",
       "    </tr>\n",
       "    <tr>\n",
       "      <th>2109</th>\n",
       "      <td>Female</td>\n",
       "      <td>24.361936</td>\n",
       "      <td>1.739450</td>\n",
       "      <td>133.346641</td>\n",
       "      <td>yes</td>\n",
       "      <td>yes</td>\n",
       "      <td>3.0</td>\n",
       "      <td>3.0</td>\n",
       "      <td>Sometimes</td>\n",
       "      <td>no</td>\n",
       "      <td>2.852339</td>\n",
       "      <td>no</td>\n",
       "      <td>1.139107</td>\n",
       "      <td>0.586035</td>\n",
       "      <td>Sometimes</td>\n",
       "      <td>Public_Transportation</td>\n",
       "      <td>Obesity_Type_III</td>\n",
       "    </tr>\n",
       "    <tr>\n",
       "      <th>2110</th>\n",
       "      <td>Female</td>\n",
       "      <td>23.664709</td>\n",
       "      <td>1.738836</td>\n",
       "      <td>133.472641</td>\n",
       "      <td>yes</td>\n",
       "      <td>yes</td>\n",
       "      <td>3.0</td>\n",
       "      <td>3.0</td>\n",
       "      <td>Sometimes</td>\n",
       "      <td>no</td>\n",
       "      <td>2.863513</td>\n",
       "      <td>no</td>\n",
       "      <td>1.026452</td>\n",
       "      <td>0.714137</td>\n",
       "      <td>Sometimes</td>\n",
       "      <td>Public_Transportation</td>\n",
       "      <td>Obesity_Type_III</td>\n",
       "    </tr>\n",
       "  </tbody>\n",
       "</table>\n",
       "<p>2111 rows × 17 columns</p>\n",
       "</div>"
      ],
      "text/plain": [
       "      Gender        Age    Height      Weight family_history_with_overweight  \\\n",
       "0     Female  21.000000  1.620000   64.000000                            yes   \n",
       "1     Female  21.000000  1.520000   56.000000                            yes   \n",
       "2       Male  23.000000  1.800000   77.000000                            yes   \n",
       "3       Male  27.000000  1.800000   87.000000                             no   \n",
       "4       Male  22.000000  1.780000   89.800000                             no   \n",
       "...      ...        ...       ...         ...                            ...   \n",
       "2106  Female  20.976842  1.710730  131.408528                            yes   \n",
       "2107  Female  21.982942  1.748584  133.742943                            yes   \n",
       "2108  Female  22.524036  1.752206  133.689352                            yes   \n",
       "2109  Female  24.361936  1.739450  133.346641                            yes   \n",
       "2110  Female  23.664709  1.738836  133.472641                            yes   \n",
       "\n",
       "     FAVC  FCVC  NCP       CAEC SMOKE      CH2O  SCC       FAF       TUE  \\\n",
       "0      no   2.0  3.0  Sometimes    no  2.000000   no  0.000000  1.000000   \n",
       "1      no   3.0  3.0  Sometimes   yes  3.000000  yes  3.000000  0.000000   \n",
       "2      no   2.0  3.0  Sometimes    no  2.000000   no  2.000000  1.000000   \n",
       "3      no   3.0  3.0  Sometimes    no  2.000000   no  2.000000  0.000000   \n",
       "4      no   2.0  1.0  Sometimes    no  2.000000   no  0.000000  0.000000   \n",
       "...   ...   ...  ...        ...   ...       ...  ...       ...       ...   \n",
       "2106  yes   3.0  3.0  Sometimes    no  1.728139   no  1.676269  0.906247   \n",
       "2107  yes   3.0  3.0  Sometimes    no  2.005130   no  1.341390  0.599270   \n",
       "2108  yes   3.0  3.0  Sometimes    no  2.054193   no  1.414209  0.646288   \n",
       "2109  yes   3.0  3.0  Sometimes    no  2.852339   no  1.139107  0.586035   \n",
       "2110  yes   3.0  3.0  Sometimes    no  2.863513   no  1.026452  0.714137   \n",
       "\n",
       "            CALC                 MTRANS           NObeyesdad  \n",
       "0             no  Public_Transportation        Normal_Weight  \n",
       "1      Sometimes  Public_Transportation        Normal_Weight  \n",
       "2     Frequently  Public_Transportation        Normal_Weight  \n",
       "3     Frequently                Walking   Overweight_Level_I  \n",
       "4      Sometimes  Public_Transportation  Overweight_Level_II  \n",
       "...          ...                    ...                  ...  \n",
       "2106   Sometimes  Public_Transportation     Obesity_Type_III  \n",
       "2107   Sometimes  Public_Transportation     Obesity_Type_III  \n",
       "2108   Sometimes  Public_Transportation     Obesity_Type_III  \n",
       "2109   Sometimes  Public_Transportation     Obesity_Type_III  \n",
       "2110   Sometimes  Public_Transportation     Obesity_Type_III  \n",
       "\n",
       "[2111 rows x 17 columns]"
      ]
     },
     "execution_count": 341,
     "metadata": {},
     "output_type": "execute_result"
    }
   ],
   "source": [
    "convert_b(df)"
   ]
  },
  {
   "cell_type": "code",
   "execution_count": 342,
   "id": "98010104",
   "metadata": {},
   "outputs": [
    {
     "data": {
      "text/plain": [
       "Gender                            0\n",
       "Age                               0\n",
       "Height                            0\n",
       "Weight                            0\n",
       "family_history_with_overweight    0\n",
       "FAVC                              0\n",
       "FCVC                              0\n",
       "NCP                               0\n",
       "CAEC                              0\n",
       "SMOKE                             0\n",
       "CH2O                              0\n",
       "SCC                               0\n",
       "FAF                               0\n",
       "TUE                               0\n",
       "CALC                              0\n",
       "MTRANS                            0\n",
       "NObeyesdad                        0\n",
       "dtype: int64"
      ]
     },
     "execution_count": 342,
     "metadata": {},
     "output_type": "execute_result"
    }
   ],
   "source": [
    "df.isnull().sum()"
   ]
  },
  {
   "cell_type": "code",
   "execution_count": 343,
   "id": "afd0b2d3",
   "metadata": {},
   "outputs": [
    {
     "data": {
      "text/plain": [
       "Obesity_Type_I         351\n",
       "Obesity_Type_III       324\n",
       "Obesity_Type_II        297\n",
       "Overweight_Level_I     290\n",
       "Overweight_Level_II    290\n",
       "Normal_Weight          287\n",
       "Insufficient_Weight    272\n",
       "Name: NObeyesdad, dtype: int64"
      ]
     },
     "execution_count": 343,
     "metadata": {},
     "output_type": "execute_result"
    }
   ],
   "source": [
    "df['NObeyesdad'].value_counts()"
   ]
  },
  {
   "cell_type": "code",
   "execution_count": 344,
   "id": "b7af82e4",
   "metadata": {},
   "outputs": [
    {
     "data": {
      "text/plain": [
       "0"
      ]
     },
     "execution_count": 344,
     "metadata": {},
     "output_type": "execute_result"
    }
   ],
   "source": [
    "df.isnull().sum().sum()   "
   ]
  },
  {
   "cell_type": "code",
   "execution_count": 345,
   "id": "9a78ce40",
   "metadata": {},
   "outputs": [
    {
     "data": {
      "text/plain": [
       "24"
      ]
     },
     "execution_count": 345,
     "metadata": {},
     "output_type": "execute_result"
    }
   ],
   "source": [
    "df.duplicated().sum()"
   ]
  },
  {
   "cell_type": "code",
   "execution_count": 346,
   "id": "f5e12c4a",
   "metadata": {},
   "outputs": [],
   "source": [
    "df=df.drop_duplicates()     #Dropping duplicates"
   ]
  },
  {
   "cell_type": "code",
   "execution_count": 347,
   "id": "b25d7813",
   "metadata": {},
   "outputs": [
    {
     "data": {
      "text/plain": [
       "(2087, 17)"
      ]
     },
     "execution_count": 347,
     "metadata": {},
     "output_type": "execute_result"
    }
   ],
   "source": [
    "df.shape"
   ]
  },
  {
   "cell_type": "code",
   "execution_count": 348,
   "id": "626f4d0b",
   "metadata": {},
   "outputs": [
    {
     "data": {
      "text/html": [
       "<div>\n",
       "<style scoped>\n",
       "    .dataframe tbody tr th:only-of-type {\n",
       "        vertical-align: middle;\n",
       "    }\n",
       "\n",
       "    .dataframe tbody tr th {\n",
       "        vertical-align: top;\n",
       "    }\n",
       "\n",
       "    .dataframe thead th {\n",
       "        text-align: right;\n",
       "    }\n",
       "</style>\n",
       "<table border=\"1\" class=\"dataframe\">\n",
       "  <thead>\n",
       "    <tr style=\"text-align: right;\">\n",
       "      <th></th>\n",
       "      <th>Age</th>\n",
       "      <th>Height</th>\n",
       "      <th>Weight</th>\n",
       "      <th>FCVC</th>\n",
       "      <th>NCP</th>\n",
       "      <th>CH2O</th>\n",
       "      <th>FAF</th>\n",
       "      <th>TUE</th>\n",
       "    </tr>\n",
       "  </thead>\n",
       "  <tbody>\n",
       "    <tr>\n",
       "      <th>count</th>\n",
       "      <td>2087.000000</td>\n",
       "      <td>2087.000000</td>\n",
       "      <td>2087.000000</td>\n",
       "      <td>2087.000000</td>\n",
       "      <td>2087.000000</td>\n",
       "      <td>2087.000000</td>\n",
       "      <td>2087.000000</td>\n",
       "      <td>2087.000000</td>\n",
       "    </tr>\n",
       "    <tr>\n",
       "      <th>mean</th>\n",
       "      <td>24.353090</td>\n",
       "      <td>1.702674</td>\n",
       "      <td>86.858730</td>\n",
       "      <td>2.421466</td>\n",
       "      <td>2.701179</td>\n",
       "      <td>2.004749</td>\n",
       "      <td>1.012812</td>\n",
       "      <td>0.663035</td>\n",
       "    </tr>\n",
       "    <tr>\n",
       "      <th>std</th>\n",
       "      <td>6.368801</td>\n",
       "      <td>0.093186</td>\n",
       "      <td>26.190847</td>\n",
       "      <td>0.534737</td>\n",
       "      <td>0.764614</td>\n",
       "      <td>0.608284</td>\n",
       "      <td>0.853475</td>\n",
       "      <td>0.608153</td>\n",
       "    </tr>\n",
       "    <tr>\n",
       "      <th>min</th>\n",
       "      <td>14.000000</td>\n",
       "      <td>1.450000</td>\n",
       "      <td>39.000000</td>\n",
       "      <td>1.000000</td>\n",
       "      <td>1.000000</td>\n",
       "      <td>1.000000</td>\n",
       "      <td>0.000000</td>\n",
       "      <td>0.000000</td>\n",
       "    </tr>\n",
       "    <tr>\n",
       "      <th>25%</th>\n",
       "      <td>19.915937</td>\n",
       "      <td>1.630178</td>\n",
       "      <td>66.000000</td>\n",
       "      <td>2.000000</td>\n",
       "      <td>2.697467</td>\n",
       "      <td>1.590922</td>\n",
       "      <td>0.124505</td>\n",
       "      <td>0.000000</td>\n",
       "    </tr>\n",
       "    <tr>\n",
       "      <th>50%</th>\n",
       "      <td>22.847618</td>\n",
       "      <td>1.701584</td>\n",
       "      <td>83.101100</td>\n",
       "      <td>2.396265</td>\n",
       "      <td>3.000000</td>\n",
       "      <td>2.000000</td>\n",
       "      <td>1.000000</td>\n",
       "      <td>0.630866</td>\n",
       "    </tr>\n",
       "    <tr>\n",
       "      <th>75%</th>\n",
       "      <td>26.000000</td>\n",
       "      <td>1.769491</td>\n",
       "      <td>108.015907</td>\n",
       "      <td>3.000000</td>\n",
       "      <td>3.000000</td>\n",
       "      <td>2.466193</td>\n",
       "      <td>1.678102</td>\n",
       "      <td>1.000000</td>\n",
       "    </tr>\n",
       "    <tr>\n",
       "      <th>max</th>\n",
       "      <td>61.000000</td>\n",
       "      <td>1.980000</td>\n",
       "      <td>173.000000</td>\n",
       "      <td>3.000000</td>\n",
       "      <td>4.000000</td>\n",
       "      <td>3.000000</td>\n",
       "      <td>3.000000</td>\n",
       "      <td>2.000000</td>\n",
       "    </tr>\n",
       "  </tbody>\n",
       "</table>\n",
       "</div>"
      ],
      "text/plain": [
       "               Age       Height       Weight         FCVC          NCP  \\\n",
       "count  2087.000000  2087.000000  2087.000000  2087.000000  2087.000000   \n",
       "mean     24.353090     1.702674    86.858730     2.421466     2.701179   \n",
       "std       6.368801     0.093186    26.190847     0.534737     0.764614   \n",
       "min      14.000000     1.450000    39.000000     1.000000     1.000000   \n",
       "25%      19.915937     1.630178    66.000000     2.000000     2.697467   \n",
       "50%      22.847618     1.701584    83.101100     2.396265     3.000000   \n",
       "75%      26.000000     1.769491   108.015907     3.000000     3.000000   \n",
       "max      61.000000     1.980000   173.000000     3.000000     4.000000   \n",
       "\n",
       "              CH2O          FAF          TUE  \n",
       "count  2087.000000  2087.000000  2087.000000  \n",
       "mean      2.004749     1.012812     0.663035  \n",
       "std       0.608284     0.853475     0.608153  \n",
       "min       1.000000     0.000000     0.000000  \n",
       "25%       1.590922     0.124505     0.000000  \n",
       "50%       2.000000     1.000000     0.630866  \n",
       "75%       2.466193     1.678102     1.000000  \n",
       "max       3.000000     3.000000     2.000000  "
      ]
     },
     "execution_count": 348,
     "metadata": {},
     "output_type": "execute_result"
    }
   ],
   "source": [
    "df.describe()"
   ]
  },
  {
   "cell_type": "code",
   "execution_count": 349,
   "id": "90069bae",
   "metadata": {},
   "outputs": [
    {
     "data": {
      "text/html": [
       "<div>\n",
       "<style scoped>\n",
       "    .dataframe tbody tr th:only-of-type {\n",
       "        vertical-align: middle;\n",
       "    }\n",
       "\n",
       "    .dataframe tbody tr th {\n",
       "        vertical-align: top;\n",
       "    }\n",
       "\n",
       "    .dataframe thead th {\n",
       "        text-align: right;\n",
       "    }\n",
       "</style>\n",
       "<table border=\"1\" class=\"dataframe\">\n",
       "  <thead>\n",
       "    <tr style=\"text-align: right;\">\n",
       "      <th></th>\n",
       "      <th>Age</th>\n",
       "      <th>Height</th>\n",
       "      <th>Weight</th>\n",
       "      <th>FCVC</th>\n",
       "      <th>NCP</th>\n",
       "      <th>CH2O</th>\n",
       "      <th>FAF</th>\n",
       "      <th>TUE</th>\n",
       "    </tr>\n",
       "  </thead>\n",
       "  <tbody>\n",
       "    <tr>\n",
       "      <th>Age</th>\n",
       "      <td>1.000000</td>\n",
       "      <td>-0.031748</td>\n",
       "      <td>0.198160</td>\n",
       "      <td>0.013572</td>\n",
       "      <td>-0.055823</td>\n",
       "      <td>-0.044058</td>\n",
       "      <td>-0.148202</td>\n",
       "      <td>-0.302927</td>\n",
       "    </tr>\n",
       "    <tr>\n",
       "      <th>Height</th>\n",
       "      <td>-0.031748</td>\n",
       "      <td>1.000000</td>\n",
       "      <td>0.457468</td>\n",
       "      <td>-0.040363</td>\n",
       "      <td>0.227806</td>\n",
       "      <td>0.220487</td>\n",
       "      <td>0.293584</td>\n",
       "      <td>0.041808</td>\n",
       "    </tr>\n",
       "    <tr>\n",
       "      <th>Weight</th>\n",
       "      <td>0.198160</td>\n",
       "      <td>0.457468</td>\n",
       "      <td>1.000000</td>\n",
       "      <td>0.216574</td>\n",
       "      <td>0.092149</td>\n",
       "      <td>0.203823</td>\n",
       "      <td>-0.056490</td>\n",
       "      <td>-0.079351</td>\n",
       "    </tr>\n",
       "    <tr>\n",
       "      <th>FCVC</th>\n",
       "      <td>0.013572</td>\n",
       "      <td>-0.040363</td>\n",
       "      <td>0.216574</td>\n",
       "      <td>1.000000</td>\n",
       "      <td>0.034885</td>\n",
       "      <td>0.081332</td>\n",
       "      <td>0.022003</td>\n",
       "      <td>-0.104128</td>\n",
       "    </tr>\n",
       "    <tr>\n",
       "      <th>NCP</th>\n",
       "      <td>-0.055823</td>\n",
       "      <td>0.227806</td>\n",
       "      <td>0.092149</td>\n",
       "      <td>0.034885</td>\n",
       "      <td>1.000000</td>\n",
       "      <td>0.075335</td>\n",
       "      <td>0.127816</td>\n",
       "      <td>0.015693</td>\n",
       "    </tr>\n",
       "    <tr>\n",
       "      <th>CH2O</th>\n",
       "      <td>-0.044058</td>\n",
       "      <td>0.220487</td>\n",
       "      <td>0.203823</td>\n",
       "      <td>0.081332</td>\n",
       "      <td>0.075335</td>\n",
       "      <td>1.000000</td>\n",
       "      <td>0.165310</td>\n",
       "      <td>0.020704</td>\n",
       "    </tr>\n",
       "    <tr>\n",
       "      <th>FAF</th>\n",
       "      <td>-0.148202</td>\n",
       "      <td>0.293584</td>\n",
       "      <td>-0.056490</td>\n",
       "      <td>0.022003</td>\n",
       "      <td>0.127816</td>\n",
       "      <td>0.165310</td>\n",
       "      <td>1.000000</td>\n",
       "      <td>0.058716</td>\n",
       "    </tr>\n",
       "    <tr>\n",
       "      <th>TUE</th>\n",
       "      <td>-0.302927</td>\n",
       "      <td>0.041808</td>\n",
       "      <td>-0.079351</td>\n",
       "      <td>-0.104128</td>\n",
       "      <td>0.015693</td>\n",
       "      <td>0.020704</td>\n",
       "      <td>0.058716</td>\n",
       "      <td>1.000000</td>\n",
       "    </tr>\n",
       "  </tbody>\n",
       "</table>\n",
       "</div>"
      ],
      "text/plain": [
       "             Age    Height    Weight      FCVC       NCP      CH2O       FAF  \\\n",
       "Age     1.000000 -0.031748  0.198160  0.013572 -0.055823 -0.044058 -0.148202   \n",
       "Height -0.031748  1.000000  0.457468 -0.040363  0.227806  0.220487  0.293584   \n",
       "Weight  0.198160  0.457468  1.000000  0.216574  0.092149  0.203823 -0.056490   \n",
       "FCVC    0.013572 -0.040363  0.216574  1.000000  0.034885  0.081332  0.022003   \n",
       "NCP    -0.055823  0.227806  0.092149  0.034885  1.000000  0.075335  0.127816   \n",
       "CH2O   -0.044058  0.220487  0.203823  0.081332  0.075335  1.000000  0.165310   \n",
       "FAF    -0.148202  0.293584 -0.056490  0.022003  0.127816  0.165310  1.000000   \n",
       "TUE    -0.302927  0.041808 -0.079351 -0.104128  0.015693  0.020704  0.058716   \n",
       "\n",
       "             TUE  \n",
       "Age    -0.302927  \n",
       "Height  0.041808  \n",
       "Weight -0.079351  \n",
       "FCVC   -0.104128  \n",
       "NCP     0.015693  \n",
       "CH2O    0.020704  \n",
       "FAF     0.058716  \n",
       "TUE     1.000000  "
      ]
     },
     "execution_count": 349,
     "metadata": {},
     "output_type": "execute_result"
    }
   ],
   "source": [
    "df.corr()"
   ]
  },
  {
   "cell_type": "code",
   "execution_count": 350,
   "id": "e5b317d5",
   "metadata": {},
   "outputs": [
    {
     "data": {
      "text/html": [
       "<div>\n",
       "<style scoped>\n",
       "    .dataframe tbody tr th:only-of-type {\n",
       "        vertical-align: middle;\n",
       "    }\n",
       "\n",
       "    .dataframe tbody tr th {\n",
       "        vertical-align: top;\n",
       "    }\n",
       "\n",
       "    .dataframe thead th {\n",
       "        text-align: right;\n",
       "    }\n",
       "</style>\n",
       "<table border=\"1\" class=\"dataframe\">\n",
       "  <thead>\n",
       "    <tr style=\"text-align: right;\">\n",
       "      <th></th>\n",
       "      <th>Age</th>\n",
       "      <th>Height</th>\n",
       "      <th>Weight</th>\n",
       "      <th>FCVC</th>\n",
       "      <th>NCP</th>\n",
       "      <th>CH2O</th>\n",
       "      <th>FAF</th>\n",
       "      <th>TUE</th>\n",
       "    </tr>\n",
       "  </thead>\n",
       "  <tbody>\n",
       "    <tr>\n",
       "      <th>Age</th>\n",
       "      <td>40.561632</td>\n",
       "      <td>-0.018842</td>\n",
       "      <td>33.054023</td>\n",
       "      <td>0.046221</td>\n",
       "      <td>-0.271839</td>\n",
       "      <td>-0.170682</td>\n",
       "      <td>-0.805566</td>\n",
       "      <td>-1.173297</td>\n",
       "    </tr>\n",
       "    <tr>\n",
       "      <th>Height</th>\n",
       "      <td>-0.018842</td>\n",
       "      <td>0.008684</td>\n",
       "      <td>1.116505</td>\n",
       "      <td>-0.002011</td>\n",
       "      <td>0.016232</td>\n",
       "      <td>0.012498</td>\n",
       "      <td>0.023349</td>\n",
       "      <td>0.002369</td>\n",
       "    </tr>\n",
       "    <tr>\n",
       "      <th>Weight</th>\n",
       "      <td>33.054023</td>\n",
       "      <td>1.116505</td>\n",
       "      <td>685.960471</td>\n",
       "      <td>3.033169</td>\n",
       "      <td>1.845376</td>\n",
       "      <td>3.247203</td>\n",
       "      <td>-1.262735</td>\n",
       "      <td>-1.263911</td>\n",
       "    </tr>\n",
       "    <tr>\n",
       "      <th>FCVC</th>\n",
       "      <td>0.046221</td>\n",
       "      <td>-0.002011</td>\n",
       "      <td>3.033169</td>\n",
       "      <td>0.285943</td>\n",
       "      <td>0.014263</td>\n",
       "      <td>0.026455</td>\n",
       "      <td>0.010042</td>\n",
       "      <td>-0.033862</td>\n",
       "    </tr>\n",
       "    <tr>\n",
       "      <th>NCP</th>\n",
       "      <td>-0.271839</td>\n",
       "      <td>0.016232</td>\n",
       "      <td>1.845376</td>\n",
       "      <td>0.014263</td>\n",
       "      <td>0.584635</td>\n",
       "      <td>0.035039</td>\n",
       "      <td>0.083410</td>\n",
       "      <td>0.007297</td>\n",
       "    </tr>\n",
       "    <tr>\n",
       "      <th>CH2O</th>\n",
       "      <td>-0.170682</td>\n",
       "      <td>0.012498</td>\n",
       "      <td>3.247203</td>\n",
       "      <td>0.026455</td>\n",
       "      <td>0.035039</td>\n",
       "      <td>0.370010</td>\n",
       "      <td>0.085822</td>\n",
       "      <td>0.007659</td>\n",
       "    </tr>\n",
       "    <tr>\n",
       "      <th>FAF</th>\n",
       "      <td>-0.805566</td>\n",
       "      <td>0.023349</td>\n",
       "      <td>-1.262735</td>\n",
       "      <td>0.010042</td>\n",
       "      <td>0.083410</td>\n",
       "      <td>0.085822</td>\n",
       "      <td>0.728419</td>\n",
       "      <td>0.030476</td>\n",
       "    </tr>\n",
       "    <tr>\n",
       "      <th>TUE</th>\n",
       "      <td>-1.173297</td>\n",
       "      <td>0.002369</td>\n",
       "      <td>-1.263911</td>\n",
       "      <td>-0.033862</td>\n",
       "      <td>0.007297</td>\n",
       "      <td>0.007659</td>\n",
       "      <td>0.030476</td>\n",
       "      <td>0.369850</td>\n",
       "    </tr>\n",
       "  </tbody>\n",
       "</table>\n",
       "</div>"
      ],
      "text/plain": [
       "              Age    Height      Weight      FCVC       NCP      CH2O  \\\n",
       "Age     40.561632 -0.018842   33.054023  0.046221 -0.271839 -0.170682   \n",
       "Height  -0.018842  0.008684    1.116505 -0.002011  0.016232  0.012498   \n",
       "Weight  33.054023  1.116505  685.960471  3.033169  1.845376  3.247203   \n",
       "FCVC     0.046221 -0.002011    3.033169  0.285943  0.014263  0.026455   \n",
       "NCP     -0.271839  0.016232    1.845376  0.014263  0.584635  0.035039   \n",
       "CH2O    -0.170682  0.012498    3.247203  0.026455  0.035039  0.370010   \n",
       "FAF     -0.805566  0.023349   -1.262735  0.010042  0.083410  0.085822   \n",
       "TUE     -1.173297  0.002369   -1.263911 -0.033862  0.007297  0.007659   \n",
       "\n",
       "             FAF       TUE  \n",
       "Age    -0.805566 -1.173297  \n",
       "Height  0.023349  0.002369  \n",
       "Weight -1.262735 -1.263911  \n",
       "FCVC    0.010042 -0.033862  \n",
       "NCP     0.083410  0.007297  \n",
       "CH2O    0.085822  0.007659  \n",
       "FAF     0.728419  0.030476  \n",
       "TUE     0.030476  0.369850  "
      ]
     },
     "execution_count": 350,
     "metadata": {},
     "output_type": "execute_result"
    }
   ],
   "source": [
    "df.cov()"
   ]
  },
  {
   "cell_type": "code",
   "execution_count": 352,
   "id": "8a24042d",
   "metadata": {},
   "outputs": [
    {
     "name": "stderr",
     "output_type": "stream",
     "text": [
      "C:\\Users\\WONDER\\anaconda3\\lib\\site-packages\\seaborn\\distributions.py:2619: FutureWarning: `distplot` is a deprecated function and will be removed in a future version. Please adapt your code to use either `displot` (a figure-level function with similar flexibility) or `histplot` (an axes-level function for histograms).\n",
      "  warnings.warn(msg, FutureWarning)\n"
     ]
    },
    {
     "data": {
      "image/png": "[encoded data removed]",
      "text/plain": [
       "<Figure size 1000x800 with 1 Axes>"
      ]
     },
     "metadata": {},
     "output_type": "display_data"
    }
   ],
   "source": [
    "import seaborn as sns\n",
    "import matplotlib.pyplot as plt\n",
    "\n",
    "sns.set_style('whitegrid')\n",
    "                            \n",
    "\n",
    "plt.figure(figsize=(10, 8))\n",
    "plt.style.use('fivethirtyeight')\n",
    "sns.distplot(df['Age'])\n",
    "plt.show()"
   ]
  },
  {
   "cell_type": "code",
   "execution_count": 353,
   "id": "0db53ca9",
   "metadata": {},
   "outputs": [
    {
     "data": {
      "text/plain": [
       "<Figure size 1000x800 with 0 Axes>"
      ]
     },
     "metadata": {},
     "output_type": "display_data"
    },
    {
     "data": {
      "image/png": "[encoded data removed]",
      "text/plain": [
       "<Figure size 500x500 with 1 Axes>"
      ]
     },
     "metadata": {},
     "output_type": "display_data"
    }
   ],
   "source": [
    "plt.figure(figsize=(10, 8))\n",
    "plt.style.use('fivethirtyeight')\n",
    "sns.displot(df['Height'])\n",
    "plt.show()"
   ]
  },
  {
   "cell_type": "code",
   "execution_count": 355,
   "id": "16224b65",
   "metadata": {},
   "outputs": [
    {
     "data": {
      "text/plain": [
       "<Figure size 1000x800 with 0 Axes>"
      ]
     },
     "metadata": {},
     "output_type": "display_data"
    },
    {
     "data": {
      "text/plain": [
       "<Figure size 1000x800 with 0 Axes>"
      ]
     },
     "metadata": {},
     "output_type": "display_data"
    },
    {
     "data": {
      "image/png": "[encoded data removed]",
      "text/plain": [
       "<Figure size 500x500 with 1 Axes>"
      ]
     },
     "metadata": {},
     "output_type": "display_data"
    }
   ],
   "source": [
    "plt.figure(figsize=(10, 8))\n",
    "plt.style.use('fivethirtyeight')\n",
    "sns.displot(df['Weight'])\n",
    "plt.show()"
   ]
  },
  {
   "cell_type": "code",
   "execution_count": 83,
   "id": "bb1860c7",
   "metadata": {},
   "outputs": [],
   "source": [
    "from scipy.stats import normaltest"
   ]
  },
  {
   "cell_type": "code",
   "execution_count": 84,
   "id": "4047c52c",
   "metadata": {},
   "outputs": [
    {
     "data": {
      "text/plain": [
       "NormaltestResult(statistic=584.0818390314115, pvalue=1.473126914812995e-127)"
      ]
     },
     "execution_count": 84,
     "metadata": {},
     "output_type": "execute_result"
    }
   ],
   "source": [
    "normaltest(df['Age']) #Performing statistical tests"
   ]
  },
  {
   "cell_type": "code",
   "execution_count": 85,
   "id": "f850b4a2",
   "metadata": {},
   "outputs": [
    {
     "data": {
      "text/plain": [
       "NormaltestResult(statistic=53.41531994072163, pvalue=2.5177386702049178e-12)"
      ]
     },
     "execution_count": 85,
     "metadata": {},
     "output_type": "execute_result"
    }
   ],
   "source": [
    "normaltest(df['Height'])"
   ]
  },
  {
   "cell_type": "code",
   "execution_count": 86,
   "id": "94718404",
   "metadata": {},
   "outputs": [
    {
     "data": {
      "text/plain": [
       "NormaltestResult(statistic=139.24058162282608, pvalue=5.811548574467761e-31)"
      ]
     },
     "execution_count": 86,
     "metadata": {},
     "output_type": "execute_result"
    }
   ],
   "source": [
    "normaltest(df['FCVC'])"
   ]
  },
  {
   "cell_type": "code",
   "execution_count": 87,
   "id": "35e192dc",
   "metadata": {},
   "outputs": [
    {
     "data": {
      "text/plain": [
       "NormaltestResult(statistic=131.45222197365436, pvalue=2.854385861040333e-29)"
      ]
     },
     "execution_count": 87,
     "metadata": {},
     "output_type": "execute_result"
    }
   ],
   "source": [
    "normaltest(df['Weight'])"
   ]
  },
  {
   "cell_type": "code",
   "execution_count": 88,
   "id": "a893696d",
   "metadata": {},
   "outputs": [
    {
     "data": {
      "text/plain": [
       "NormaltestResult(statistic=317.6241280332495, pvalue=1.0685551404968869e-69)"
      ]
     },
     "execution_count": 88,
     "metadata": {},
     "output_type": "execute_result"
    }
   ],
   "source": [
    "normaltest(df['NCP'])"
   ]
  },
  {
   "cell_type": "code",
   "execution_count": 203,
   "id": "a6bbcd45",
   "metadata": {},
   "outputs": [],
   "source": [
    "numeric_columns=[]\n",
    "categorical_columns=[]\n",
    "for i in df.columns:\n",
    "    if df[i].dtype=='int64' or df[i].dtype=='float64':      #choosing numerical columns \n",
    "        numeric_columns.append(df[i])\n",
    "    else:\n",
    "        categorical_columns.append(df[i])"
   ]
  },
  {
   "cell_type": "code",
   "execution_count": 206,
   "id": "170777c0",
   "metadata": {},
   "outputs": [],
   "source": [
    "numeric_columns_names=[]\n",
    "categorical_column_names=[]\n",
    "for i in df.columns:\n",
    "    if df[i].dtype=='int64' or df[i].dtype=='float64':\n",
    "        numeric_columns_names.append(i)                   #choosing categorical columns\n",
    "    else:\n",
    "        categorical_column_names.append(i)"
   ]
  },
  {
   "cell_type": "code",
   "execution_count": 207,
   "id": "90a7843f",
   "metadata": {},
   "outputs": [
    {
     "data": {
      "text/plain": [
       "['Age', 'Height', 'Weight', 'FCVC', 'NCP', 'CH2O', 'FAF', 'TUE']"
      ]
     },
     "execution_count": 207,
     "metadata": {},
     "output_type": "execute_result"
    }
   ],
   "source": [
    "numeric_columns_names"
   ]
  },
  {
   "cell_type": "code",
   "execution_count": 151,
   "id": "08287ec2",
   "metadata": {},
   "outputs": [],
   "source": [
    "import numpy as np \n",
    "def out_liers(df,column_name):\n",
    "    per_25=np.percentile(df[column_name],25)\n",
    "    per_50=np.percentile(df[column_name],50)\n",
    "    per_75=np.percentile(df[column_name],75)\n",
    "    iqr=per_75-per_25                                #Functions for detecting outliers\n",
    "    lower_fence=per_25-(1.5*per_25)\n",
    "    higher_fence=per_75+(1.5*per_75)\n",
    "    maximum=max(df[i])\n",
    "    minimum=min(df[i])\n",
    "    return lower_fence,higher_fence,minimum,maximum"
   ]
  },
  {
   "cell_type": "code",
   "execution_count": 124,
   "id": "a2017f89",
   "metadata": {},
   "outputs": [
    {
     "data": {
      "text/plain": [
       "(-9.95796875, 65.0, 'Insufficient_Weight', 'Overweight_Level_II')"
      ]
     },
     "execution_count": 124,
     "metadata": {},
     "output_type": "execute_result"
    }
   ],
   "source": [
    "out_liers(df,'Age')"
   ]
  },
  {
   "cell_type": "code",
   "execution_count": 125,
   "id": "4e299304",
   "metadata": {},
   "outputs": [
    {
     "data": {
      "text/plain": [
       "(-0.8150892500000002, 4.42372875, 'Insufficient_Weight', 'Overweight_Level_II')"
      ]
     },
     "execution_count": 125,
     "metadata": {},
     "output_type": "execute_result"
    }
   ],
   "source": [
    "out_liers(df,'Height')"
   ]
  },
  {
   "cell_type": "code",
   "execution_count": 153,
   "id": "62b47d4a",
   "metadata": {},
   "outputs": [
    {
     "name": "stdout",
     "output_type": "stream",
     "text": [
      "Age (-9.95796875, 65.0, 14.0, 61.0)\n",
      "Height (-0.8150892500000002, 4.42372875, 1.45, 1.98)\n",
      "Weight (-33.0, 270.03976750000004, 39.0, 173.0)\n",
      "FCVC (-1.0, 7.5, 1.0, 3.0)\n",
      "NCP (-1.3487335000000003, 7.5, 1.0, 4.0)\n",
      "CH2O (-0.7954607499999999, 6.16548125, 1.0, 3.0)\n",
      "FAF (-0.062252500000000016, 4.1952549999999995, 0.0, 3.0)\n",
      "TUE (0.0, 2.5, 0.0, 2.0)\n"
     ]
    }
   ],
   "source": [
    "l=[]\n",
    "for i in numeric_columns_names:\n",
    "    l.append((out_liers(df,i)))        ## for numerical columns calculating lower_fence ,upper_fence , min and max values\n",
    "    print(i,(out_liers(df,i)))"
   ]
  },
  {
   "cell_type": "code",
   "execution_count": 154,
   "id": "2c5e6f71",
   "metadata": {},
   "outputs": [],
   "source": [
    "#From above we can conclude that there is no outliers"
   ]
  },
  {
   "cell_type": "code",
   "execution_count": 208,
   "id": "7c347442",
   "metadata": {},
   "outputs": [
    {
     "data": {
      "text/plain": [
       "['Gender',\n",
       " 'family_history_with_overweight',\n",
       " 'FAVC',\n",
       " 'CAEC',\n",
       " 'SMOKE',\n",
       " 'SCC',\n",
       " 'CALC',\n",
       " 'MTRANS',\n",
       " 'NObeyesdad']"
      ]
     },
     "execution_count": 208,
     "metadata": {},
     "output_type": "execute_result"
    }
   ],
   "source": [
    "categorical_column_names"
   ]
  },
  {
   "cell_type": "code",
   "execution_count": 209,
   "id": "87885dd3",
   "metadata": {},
   "outputs": [],
   "source": [
    "from sklearn import preprocessing\n",
    "le = preprocessing.LabelEncoder()      #label encoder for categorical data"
   ]
  },
  {
   "cell_type": "code",
   "execution_count": 221,
   "id": "56a72c8f",
   "metadata": {},
   "outputs": [],
   "source": [
    "c1=le.fit_transform(df['Gender'])"
   ]
  },
  {
   "cell_type": "code",
   "execution_count": 227,
   "id": "3166e8e5",
   "metadata": {},
   "outputs": [
    {
     "data": {
      "text/plain": [
       "9"
      ]
     },
     "execution_count": 227,
     "metadata": {},
     "output_type": "execute_result"
    }
   ],
   "source": [
    "len(categorical_column_names)"
   ]
  },
  {
   "cell_type": "code",
   "execution_count": 252,
   "id": "a27fd22e",
   "metadata": {},
   "outputs": [],
   "source": [
    "cat_trans=[]\n",
    "for i in categorical_column_names:               #For catogorical data applying  label encoder\n",
    "    cat_trans.append(le.fit_transform(df[i]))"
   ]
  },
  {
   "cell_type": "code",
   "execution_count": 253,
   "id": "ca53f6a0",
   "metadata": {},
   "outputs": [],
   "source": [
    "import numpy as np\n",
    "arr=np.array(cat_trans)"
   ]
  },
  {
   "cell_type": "code",
   "execution_count": 254,
   "id": "e68ea6b7",
   "metadata": {},
   "outputs": [],
   "source": [
    "arr=arr.reshape(-1,9)"
   ]
  },
  {
   "cell_type": "code",
   "execution_count": 255,
   "id": "49f8eb05",
   "metadata": {},
   "outputs": [],
   "source": [
    "df1=pd.DataFrame(arr,columns=categorical_column_names)      #converting array into data frame"
   ]
  },
  {
   "cell_type": "code",
   "execution_count": 256,
   "id": "13c1ca42",
   "metadata": {},
   "outputs": [
    {
     "data": {
      "text/plain": [
       "(2087, 9)"
      ]
     },
     "execution_count": 256,
     "metadata": {},
     "output_type": "execute_result"
    }
   ],
   "source": [
    "df1.shape"
   ]
  },
  {
   "cell_type": "code",
   "execution_count": 258,
   "id": "83afed5d",
   "metadata": {},
   "outputs": [],
   "source": [
    "from sklearn.preprocessing import StandardScaler        #for numerical data applying Standard scaler\n",
    "scaler = StandardScaler()"
   ]
  },
  {
   "cell_type": "code",
   "execution_count": 263,
   "id": "f6177b91",
   "metadata": {},
   "outputs": [],
   "source": [
    "arr2=scaler.fit_transform(numeric_columns)"
   ]
  },
  {
   "cell_type": "code",
   "execution_count": 271,
   "id": "89b6fad3",
   "metadata": {},
   "outputs": [],
   "source": [
    "arr2=arr2.reshape(-1,8)"
   ]
  },
  {
   "cell_type": "code",
   "execution_count": 283,
   "id": "95997f67",
   "metadata": {},
   "outputs": [],
   "source": [
    "df2=pd.DataFrame(arr2,columns=numeric_columns_names)"
   ]
  },
  {
   "cell_type": "code",
   "execution_count": 284,
   "id": "d2f9b6a9",
   "metadata": {},
   "outputs": [
    {
     "data": {
      "text/plain": [
       "(2087, 9)"
      ]
     },
     "execution_count": 284,
     "metadata": {},
     "output_type": "execute_result"
    }
   ],
   "source": [
    "df1.shape"
   ]
  },
  {
   "cell_type": "code",
   "execution_count": 285,
   "id": "7e230c03",
   "metadata": {},
   "outputs": [
    {
     "data": {
      "text/plain": [
       "(2087, 8)"
      ]
     },
     "execution_count": 285,
     "metadata": {},
     "output_type": "execute_result"
    }
   ],
   "source": [
    "df2.shape"
   ]
  },
  {
   "cell_type": "code",
   "execution_count": 286,
   "id": "0d59e144",
   "metadata": {},
   "outputs": [],
   "source": [
    "df3=pd.merge(df1, df2, left_index=True, right_index=True)    #merging resultant data frames"
   ]
  },
  {
   "cell_type": "code",
   "execution_count": 287,
   "id": "973ebfaa",
   "metadata": {},
   "outputs": [
    {
     "data": {
      "text/plain": [
       "(2087, 17)"
      ]
     },
     "execution_count": 287,
     "metadata": {},
     "output_type": "execute_result"
    }
   ],
   "source": [
    "df3.shape"
   ]
  },
  {
   "cell_type": "code",
   "execution_count": 288,
   "id": "f570e650",
   "metadata": {},
   "outputs": [
    {
     "data": {
      "text/plain": [
       "Gender                              int32\n",
       "family_history_with_overweight      int32\n",
       "FAVC                                int32\n",
       "CAEC                                int32\n",
       "SMOKE                               int32\n",
       "SCC                                 int32\n",
       "CALC                                int32\n",
       "MTRANS                              int32\n",
       "NObeyesdad                          int32\n",
       "Age                               float64\n",
       "Height                            float64\n",
       "Weight                            float64\n",
       "FCVC                              float64\n",
       "NCP                               float64\n",
       "CH2O                              float64\n",
       "FAF                               float64\n",
       "TUE                               float64\n",
       "dtype: object"
      ]
     },
     "execution_count": 288,
     "metadata": {},
     "output_type": "execute_result"
    }
   ],
   "source": [
    "df3.dtypes"
   ]
  },
  {
   "cell_type": "code",
   "execution_count": 297,
   "id": "0f6038ae",
   "metadata": {},
   "outputs": [],
   "source": [
    "x=df3.drop('NObeyesdad',axis=1)          # selecting input features"
   ]
  },
  {
   "cell_type": "code",
   "execution_count": 298,
   "id": "77990654",
   "metadata": {},
   "outputs": [],
   "source": [
    "y=df3.NObeyesdad                       #selecting output features"
   ]
  },
  {
   "cell_type": "code",
   "execution_count": 299,
   "id": "df192f73",
   "metadata": {},
   "outputs": [],
   "source": [
    "from sklearn.model_selection import train_test_split"
   ]
  },
  {
   "cell_type": "code",
   "execution_count": 300,
   "id": "8c9324ff",
   "metadata": {},
   "outputs": [],
   "source": [
    "x_train,x_test,y_train,y_test=train_test_split(x,y,test_size=0.27,random_state=77)      # applying train test split"
   ]
  },
  {
   "cell_type": "code",
   "execution_count": 301,
   "id": "897eacc3",
   "metadata": {},
   "outputs": [],
   "source": [
    "from sklearn.ensemble import RandomForestClassifier     #random forest classifier "
   ]
  },
  {
   "cell_type": "code",
   "execution_count": 302,
   "id": "41adfb42",
   "metadata": {},
   "outputs": [],
   "source": [
    "dt=RandomForestClassifier()"
   ]
  },
  {
   "cell_type": "code",
   "execution_count": 305,
   "id": "c7655a1c",
   "metadata": {},
   "outputs": [],
   "source": [
    "model=dt.fit(x_train,y_train)         #building model"
   ]
  },
  {
   "cell_type": "code",
   "execution_count": 306,
   "id": "90777280",
   "metadata": {},
   "outputs": [
    {
     "data": {
      "text/plain": [
       "1.0"
      ]
     },
     "execution_count": 306,
     "metadata": {},
     "output_type": "execute_result"
    }
   ],
   "source": [
    "model.score(x_train,y_train)"
   ]
  },
  {
   "cell_type": "code",
   "execution_count": 308,
   "id": "16bc5eb4",
   "metadata": {},
   "outputs": [],
   "source": [
    "y_pred=model.predict(x_test)"
   ]
  },
  {
   "cell_type": "code",
   "execution_count": 304,
   "id": "88ea130f",
   "metadata": {},
   "outputs": [],
   "source": [
    "from sklearn.metrics import f1_score"
   ]
  },
  {
   "cell_type": "code",
   "execution_count": 310,
   "id": "e5f9337d",
   "metadata": {},
   "outputs": [
    {
     "data": {
      "text/plain": [
       "array([0.83835616, 0.83888889, 0.83495146, 0.71621622, 0.94736842,\n",
       "       0.66666667, 0.93333333])"
      ]
     },
     "execution_count": 310,
     "metadata": {},
     "output_type": "execute_result"
    }
   ],
   "source": [
    "f1_score(y_test,y_pred,average=None)           #calculating F1 score"
   ]
  },
  {
   "cell_type": "code",
   "execution_count": 311,
   "id": "a08f0c09",
   "metadata": {},
   "outputs": [],
   "source": [
    "from sklearn.tree import DecisionTreeClassifier      #building decisionm tree model"
   ]
  },
  {
   "cell_type": "code",
   "execution_count": 312,
   "id": "bfa59044",
   "metadata": {},
   "outputs": [],
   "source": [
    "dt=DecisionTreeClassifier()"
   ]
  },
  {
   "cell_type": "code",
   "execution_count": 314,
   "id": "36486b2f",
   "metadata": {},
   "outputs": [],
   "source": [
    "model1=dt.fit(x_train,y_train)"
   ]
  },
  {
   "cell_type": "code",
   "execution_count": 316,
   "id": "4eca47aa",
   "metadata": {},
   "outputs": [
    {
     "data": {
      "text/plain": [
       "1.0"
      ]
     },
     "execution_count": 316,
     "metadata": {},
     "output_type": "execute_result"
    }
   ],
   "source": [
    "model1.score(x_train,y_train)"
   ]
  },
  {
   "cell_type": "code",
   "execution_count": 318,
   "id": "8bbc5353",
   "metadata": {},
   "outputs": [],
   "source": [
    "y_pred1=model1.predict(x_test)"
   ]
  },
  {
   "cell_type": "code",
   "execution_count": 319,
   "id": "cef97cb7",
   "metadata": {},
   "outputs": [
    {
     "data": {
      "text/plain": [
       "array([0.76392573, 0.78571429, 0.8019802 , 0.65648855, 0.90909091,\n",
       "       0.66666667, 0.82352941])"
      ]
     },
     "execution_count": 319,
     "metadata": {},
     "output_type": "execute_result"
    }
   ],
   "source": [
    "f1_score(y_test,y_pred1,average=None)"
   ]
  },
  {
   "cell_type": "code",
   "execution_count": null,
   "id": "7bcb0aff",
   "metadata": {},
   "outputs": [],
   "source": []
  }
 ],
 "metadata": {
  "kernelspec": {
   "display_name": "Python 3 (ipykernel)",
   "language": "python",
   "name": "python3"
  },
  "language_info": {
   "codemirror_mode": {
    "name": "ipython",
    "version": 3
   },
   "file_extension": ".py",
   "mimetype": "text/x-python",
   "name": "python",
   "nbconvert_exporter": "python",
   "pygments_lexer": "ipython3",
   "version": "3.9.13"
  }
 },
 "nbformat": 4,
 "nbformat_minor": 5
}
