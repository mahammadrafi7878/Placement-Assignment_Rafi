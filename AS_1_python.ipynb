{
 "cells": [
  {
   "cell_type": "raw",
   "id": "db47c1df",
   "metadata": {},
   "source": [
    "Question 1: -\n",
    "Write a program that takes a string as input, and counts the frequency of each word in the string, there might\n",
    "be repeated characters in the string. Your task is to find the highest frequency and returns the length of the\n",
    "highest-frequency word.\n",
    "Note - You have to write at least 2 additional test cases in which your program will run successfully and provide\n",
    "an explanation for the same.\n",
    "Example input - string = “write write write all the number from from from 1 to 100”\n",
    "Example output - 5\n",
    "Explanation - From the given string we can note that the most frequent words are “write” and “from” and\n",
    "the maximum value of both the values is “write” and its corresponding length is 5\n"
   ]
  },
  {
   "cell_type": "code",
   "execution_count": 4,
   "id": "9b89f1df",
   "metadata": {},
   "outputs": [
    {
     "name": "stdout",
     "output_type": "stream",
     "text": [
      "enter your string: abc def gklm nopqr tsu \n",
      "COUNTING OF WORDS NUMBER OF TIMES OCCURED:  {'abc': 1, 'def': 1, 'gklm': 1, 'nopqr': 1, 'tsu': 1, '': 1}\n",
      "len of maximum word:  5\n"
     ]
    }
   ],
   "source": [
    "from collections import Counter               #importing counter function  \n",
    "inp=input('enter your string: ')\n",
    "inp=list(inp.split(' '))\n",
    "cunt=Counter(inp)\n",
    "cunt=dict(cunt)\n",
    "print('COUNTING OF WORDS NUMBER OF TIMES OCCURED: ',cunt)  #counting word frequency\n",
    "\n",
    "ele=list(zip(cunt.values(),cunt.keys()))     #zipping key and values of word\n",
    "\n",
    "words=[]      #extrracting word\n",
    "for i in ele:\n",
    "    words.append(i[1])\n",
    "    \n",
    "value=[]       #counting number of characters\n",
    "for i in words:\n",
    "    value.append(len(i))\n",
    "    \n",
    "print(\"len of maximum word: \",max(value))"
   ]
  },
  {
   "cell_type": "code",
   "execution_count": null,
   "id": "418d86b9",
   "metadata": {},
   "outputs": [],
   "source": []
  }
 ],
 "metadata": {
  "kernelspec": {
   "display_name": "Python 3 (ipykernel)",
   "language": "python",
   "name": "python3"
  },
  "language_info": {
   "codemirror_mode": {
    "name": "ipython",
    "version": 3
   },
   "file_extension": ".py",
   "mimetype": "text/x-python",
   "name": "python",
   "nbconvert_exporter": "python",
   "pygments_lexer": "ipython3",
   "version": "3.9.13"
  }
 },
 "nbformat": 4,
 "nbformat_minor": 5
}
