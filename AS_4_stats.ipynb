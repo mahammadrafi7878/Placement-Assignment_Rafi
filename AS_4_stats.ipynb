{
 "cells": [
  {
   "cell_type": "raw",
   "id": "2a0454e2",
   "metadata": {},
   "source": [
    ". A group of 20 friends decide to play a game in which they each write a number\n",
    "between 1 and 20 on a slip of paper and put it into a hat. They then draw one slip of paper\n",
    "at random. What is the probability that the number on the slip of paper is a perfect square\n",
    "(i.e., 1, 4, 9, or 16)"
   ]
  },
  {
   "cell_type": "raw",
   "id": "d44cdb82",
   "metadata": {},
   "source": [
    "Here Total number of outcomes are 20  i.e sample spaces\n",
    " No of outcomes for each time is one.\n",
    "   \n",
    "   So, Probability is nothing but number of ways an outcome divided by total number of outcomes\n",
    "   \n",
    "  so probability of '1' is =1/20\n",
    "  probability of '2' is =1/20\n",
    "  probability of '3' is =1/20   like till 20  i.e probability of '20' is =1/20\n",
    "  \n",
    "  \n",
    "  here we need to find of out probabilities of outcome of   perfect square\n",
    "(i.e., 1, 4, 9, or 16)\n",
    "         prob(1, 4, 9, or 16)=1/20 + 1/20 + 1/20 +1/20 = 1/5=  2%"
   ]
  }
 ],
 "metadata": {
  "kernelspec": {
   "display_name": "Python 3 (ipykernel)",
   "language": "python",
   "name": "python3"
  },
  "language_info": {
   "codemirror_mode": {
    "name": "ipython",
    "version": 3
   },
   "file_extension": ".py",
   "mimetype": "text/x-python",
   "name": "python",
   "nbconvert_exporter": "python",
   "pygments_lexer": "ipython3",
   "version": "3.9.13"
  }
 },
 "nbformat": 4,
 "nbformat_minor": 5
}
