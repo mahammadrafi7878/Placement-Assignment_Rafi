{
 "cells": [
  {
   "cell_type": "raw",
   "id": "5df3ff9f",
   "metadata": {},
   "source": [
    ". A certain city has two taxi companies: Company A has 80% of the taxis and\n",
    "Company B has 20% of the taxis. Company A's taxis have a 95% success rate for picking\n",
    "up passengers on time, while Company B's taxis have a 90% success rate. If a randomly\n",
    "selected taxi is late, what is the probability that it belongs to Company A?"
   ]
  },
  {
   "cell_type": "raw",
   "id": "a139e008",
   "metadata": {},
   "source": [
    "  Given data is,\n",
    "  \n",
    "      company \"A\" has 80% cars and success rate is 95%\n",
    "      company \"B\" has 20% of taxis and success rate is 90%\n",
    "      \n",
    "    If we select a randomly taxi is late what is the percentage that it belongs to the  company \"A\" ?\n",
    "    \n",
    "  Taking company \"A\" ,  percentage of cars is =80%\n",
    "                         Its success rate is =95%   (false Negative)\n",
    "                         fail rate is =5%\n",
    "   Taking company \"b\" ,  percentage of cars is =20%\n",
    "                         Its success rate is =90% \n",
    "                         fail rate is=10%\n",
    "                         \n",
    "             Here we can apply 'Bayesian parobability nothing but condition of probability  \n",
    "             \n",
    "         p(A/failrate)=   (5*0.8)/(5*0.8)*90*0.5\n",
    "                      =0.18\n",
    "                      \n",
    "                    answer is 0.18"
   ]
  }
 ],
 "metadata": {
  "kernelspec": {
   "display_name": "Python 3 (ipykernel)",
   "language": "python",
   "name": "python3"
  },
  "language_info": {
   "codemirror_mode": {
    "name": "ipython",
    "version": 3
   },
   "file_extension": ".py",
   "mimetype": "text/x-python",
   "name": "python",
   "nbconvert_exporter": "python",
   "pygments_lexer": "ipython3",
   "version": "3.9.13"
  }
 },
 "nbformat": 4,
 "nbformat_minor": 5
}
