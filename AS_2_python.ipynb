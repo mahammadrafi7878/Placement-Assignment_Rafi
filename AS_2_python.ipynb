{
 "cells": [
  {
   "cell_type": "raw",
   "id": "8dbc3c4b",
   "metadata": {},
   "source": [
    "Question 2: -\n",
    "Consider a string to be valid if all characters of the string appear the same number of times. It is also valid if\n",
    "he can remove just one character at the index in the string, and the remaining characters will occur the same\n",
    "number of times. Given a string, determine if it is valid. If so, return YES , otherwise return NO .\n",
    "Note - You have to write at least 2 additional test cases in which your program will run successfully and provide\n",
    "an explanation for the same.\n",
    "Example input 1 - s = “abc”. This is a valid string because frequencies are { “a”: 1, “b”: 1, “c”: 1 }\n",
    "Example output 1- YES\n",
    "Example input 2 - s “abcc”. This string is not valid as we can remove only 1 occurrence of “c”. That leaves\n",
    "character frequencies of { “a”: 1, “b”: 1 , “c”: 2 }\n",
    "Example output 2 - NO"
   ]
  },
  {
   "cell_type": "code",
   "execution_count": 11,
   "id": "a99013d6",
   "metadata": {},
   "outputs": [
    {
     "name": "stdout",
     "output_type": "stream",
     "text": [
      "abc\n",
      "[1, 1, 1]\n",
      "Yes\n"
     ]
    }
   ],
   "source": [
    "# Using  counter and while loop\n",
    "\n",
    "from collections import Counter\n",
    "string=input()\n",
    "\n",
    "string=list(string)\n",
    "count=Counter(string)    # Calculating frquency of character\n",
    "\n",
    "last=dict(count)\n",
    "pred=list(last.values())    #extracting the occurance value of character\n",
    "\n",
    "print(pred)\n",
    "#Comparing  frequency of characters using flag\n",
    "flag=1\n",
    "first=pred[0]\n",
    "a=0\n",
    "while a<len(pred):\n",
    "    if first!=pred[a]:\n",
    "        flag=flag+1\n",
    "    a=a+1 \n",
    "    \n",
    "if flag>1:\n",
    "    print(\"No\")\n",
    "else:\n",
    "    print(\"Yes\")"
   ]
  },
  {
   "cell_type": "code",
   "execution_count": 13,
   "id": "7aa72e70",
   "metadata": {},
   "outputs": [
    {
     "name": "stdout",
     "output_type": "stream",
     "text": [
      "abcc\n",
      "NO\n"
     ]
    }
   ],
   "source": [
    "#second method\n",
    "\n",
    "s = input()\n",
    "distinctList = []   #creating two lists for calculating frequency occurance characters\n",
    "countList = []\n",
    "for c in s:\n",
    "    if c not in distinctList:\n",
    "        distinctList.append(c)\n",
    "for d in distinctList:\n",
    "    count = s.count(d)\n",
    "    countList.append(count)\n",
    "\n",
    "\n",
    "#uing flag and for loop\n",
    "key = countList[0]\n",
    "flags = 1\n",
    "for count in countList:\n",
    "    if(key != count):\n",
    "        flags+=1\n",
    "if(flags > 1):\n",
    "    print(\"NO\")\n",
    "else:\n",
    "    print('no')"
   ]
  },
  {
   "cell_type": "code",
   "execution_count": null,
   "id": "8de7a4a2",
   "metadata": {},
   "outputs": [],
   "source": []
  }
 ],
 "metadata": {
  "kernelspec": {
   "display_name": "Python 3 (ipykernel)",
   "language": "python",
   "name": "python3"
  },
  "language_info": {
   "codemirror_mode": {
    "name": "ipython",
    "version": 3
   },
   "file_extension": ".py",
   "mimetype": "text/x-python",
   "name": "python",
   "nbconvert_exporter": "python",
   "pygments_lexer": "ipython3",
   "version": "3.9.13"
  }
 },
 "nbformat": 4,
 "nbformat_minor": 5
}
