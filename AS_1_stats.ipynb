{
 "cells": [
  {
   "cell_type": "raw",
   "id": "6a093835",
   "metadata": {},
   "source": [
    "1. A university wants to understand the relationship between the SAT scores of its\n",
    "applicants and their college GPA. They collect data on 500 students, including their SAT\n",
    "scores (out of 1600) and their college GPA (on a 4.0 scale). They find that the correlation\n",
    "coefficient between SAT scores and college GPA is 0.7. What does this correlation\n",
    "coefficient indicate about the relationship between SAT scores and college GPA?\n"
   ]
  },
  {
   "cell_type": "raw",
   "id": "3618eb5f",
   "metadata": {},
   "source": [
    "1. Here given correlation coefficient SAT scores and GPA of their students.\n",
    "2.  Given Correlation coefficient value is 0.7.  This is nothing but pearsons correlation coefficient.\n",
    "   Covaraince actually gives the value of correlation between two variable, and it doesnot tell ho strongly correlated each other and their values varies from [-inf to +inf], To over come these problem and to know how two variables are correlated to each other we use Pearson's correlation Coefficient factor.\n",
    "   \n",
    "   here it is +7 means they are strongly  positevely correlated , If SAT score of a student increases then GPA score also increases vice versa.\n",
    "   \n",
    "    Pearsons Correlation Coefficient ranges from [-1,+1]\n",
    "     But Pearson's Correlation Coefficient has two advantages , it works on linear data only, it does not works on non linear data and second one is the variables values are similar to each othjer it gives only 0.83 , beyong these value it doesnot give."
   ]
  }
 ],
 "metadata": {
  "kernelspec": {
   "display_name": "Python 3 (ipykernel)",
   "language": "python",
   "name": "python3"
  },
  "language_info": {
   "codemirror_mode": {
    "name": "ipython",
    "version": 3
   },
   "file_extension": ".py",
   "mimetype": "text/x-python",
   "name": "python",
   "nbconvert_exporter": "python",
   "pygments_lexer": "ipython3",
   "version": "3.9.13"
  }
 },
 "nbformat": 4,
 "nbformat_minor": 5
}
