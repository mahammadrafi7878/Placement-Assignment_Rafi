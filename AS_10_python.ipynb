{
 "cells": [
  {
   "cell_type": "raw",
   "id": "2be642d5",
   "metadata": {},
   "source": [
    "Write a program to count the number of verbs, nouns, pronouns, and adjectives in a given particular phrase or\n",
    "paragraph, and return their respective count as a dictionary.\n",
    "Note -\n",
    "1. Write code comments wherever required for code\n",
    "2. You have to write at least 2 additional test cases in which your program will run successfully and provide\n",
    "an explanation for the same"
   ]
  },
  {
   "cell_type": "code",
   "execution_count": 50,
   "id": "5d529c64",
   "metadata": {},
   "outputs": [],
   "source": [
    "import nltk                                                    #Importing required nltk libraries\n",
    "from nltk.corpus import stopwords \n",
    "from nltk.tokenize import word_tokenize, sent_tokenize   \n",
    "stop_words = set(stopwords.words('english'))"
   ]
  },
  {
   "cell_type": "code",
   "execution_count": 51,
   "id": "7e0c4a62",
   "metadata": {},
   "outputs": [],
   "source": [
    "txt='''MS Dhoni is an Indian cricketer who plays for the Chennai franchise in the Indian Premier League. MS Dhoni was born on Jul 07, 1981; and as of 2023, he is 42 years old. MS Dhoni is a wicket keeper from Ranchi and bats right handed. He made his IPL debut in 2008.\n",
    "\n",
    "MS Dhoni has played 247 matches to date in his IPL career and has scored 5081 runs, with an average of 39.39. He has also slammed 24 half-centuries, with his highest IPL score being 84* runs. MS Dhoni has hit 349 fours and 239 sixes in his IPL career.\n",
    "\n",
    "In the IPL Auction 2023, the Chennai franchise acquired the services of MS Dhoni for Rs 12.00 Cr.\n",
    "\n",
    "On May 2023, he played his last IPL match against Delhi at the Arun Jaitley Stadium, Delhi, India, scoring 5 runs off 4 balls.'''"
   ]
  },
  {
   "cell_type": "code",
   "execution_count": 52,
   "id": "38cc2f6a",
   "metadata": {},
   "outputs": [],
   "source": [
    "tokenized = sent_tokenize(txt)     #tokenizing the paragraph"
   ]
  },
  {
   "cell_type": "code",
   "execution_count": 53,
   "id": "bd0b25c4",
   "metadata": {},
   "outputs": [
    {
     "data": {
      "text/plain": [
       "['MS Dhoni is an Indian cricketer who plays for the Chennai franchise in the Indian Premier League.',\n",
       " 'MS Dhoni was born on Jul 07, 1981; and as of 2023, he is 42 years old.',\n",
       " 'MS Dhoni is a wicket keeper from Ranchi and bats right handed.',\n",
       " 'He made his IPL debut in 2008.',\n",
       " 'MS Dhoni has played 247 matches to date in his IPL career and has scored 5081 runs, with an average of 39.39.',\n",
       " 'He has also slammed 24 half-centuries, with his highest IPL score being 84* runs.',\n",
       " 'MS Dhoni has hit 349 fours and 239 sixes in his IPL career.',\n",
       " 'In the IPL Auction 2023, the Chennai franchise acquired the services of MS Dhoni for Rs 12.00 Cr.',\n",
       " 'On May 2023, he played his last IPL match against Delhi at the Arun Jaitley Stadium, Delhi, India, scoring 5 runs off 4 balls.']"
      ]
     },
     "execution_count": 53,
     "metadata": {},
     "output_type": "execute_result"
    }
   ],
   "source": [
    "tokenized"
   ]
  },
  {
   "cell_type": "code",
   "execution_count": 54,
   "id": "dfe97d9d",
   "metadata": {},
   "outputs": [],
   "source": [
    "for i in tokenized:\n",
    "    wordsList = nltk.word_tokenize(i)       #seeing the words after word tokenizing\n",
    "    "
   ]
  },
  {
   "cell_type": "code",
   "execution_count": 55,
   "id": "99f8a83f",
   "metadata": {},
   "outputs": [
    {
     "data": {
      "text/plain": [
       "['On',\n",
       " 'May',\n",
       " '2023',\n",
       " ',',\n",
       " 'he',\n",
       " 'played',\n",
       " 'his',\n",
       " 'last',\n",
       " 'IPL',\n",
       " 'match',\n",
       " 'against',\n",
       " 'Delhi',\n",
       " 'at',\n",
       " 'the',\n",
       " 'Arun',\n",
       " 'Jaitley',\n",
       " 'Stadium',\n",
       " ',',\n",
       " 'Delhi',\n",
       " ',',\n",
       " 'India',\n",
       " ',',\n",
       " 'scoring',\n",
       " '5',\n",
       " 'runs',\n",
       " 'off',\n",
       " '4',\n",
       " 'balls',\n",
       " '.']"
      ]
     },
     "execution_count": 55,
     "metadata": {},
     "output_type": "execute_result"
    }
   ],
   "source": [
    "wordsList"
   ]
  },
  {
   "cell_type": "code",
   "execution_count": 56,
   "id": "990a094a",
   "metadata": {},
   "outputs": [],
   "source": [
    "wordsList = [w for w in wordsList if not w in stop_words]    #Creating a word list"
   ]
  },
  {
   "cell_type": "code",
   "execution_count": 57,
   "id": "227ff59d",
   "metadata": {},
   "outputs": [
    {
     "data": {
      "text/plain": [
       "['On',\n",
       " 'May',\n",
       " '2023',\n",
       " ',',\n",
       " 'played',\n",
       " 'last',\n",
       " 'IPL',\n",
       " 'match',\n",
       " 'Delhi',\n",
       " 'Arun',\n",
       " 'Jaitley',\n",
       " 'Stadium',\n",
       " ',',\n",
       " 'Delhi',\n",
       " ',',\n",
       " 'India',\n",
       " ',',\n",
       " 'scoring',\n",
       " '5',\n",
       " 'runs',\n",
       " '4',\n",
       " 'balls',\n",
       " '.']"
      ]
     },
     "execution_count": 57,
     "metadata": {},
     "output_type": "execute_result"
    }
   ],
   "source": [
    "wordsList"
   ]
  },
  {
   "cell_type": "code",
   "execution_count": 58,
   "id": "cc5cbcc8",
   "metadata": {},
   "outputs": [],
   "source": [
    "tagged = nltk.pos_tag(wordsList)         #Giving postag   parts of speech "
   ]
  },
  {
   "cell_type": "code",
   "execution_count": 59,
   "id": "9ad83c19",
   "metadata": {},
   "outputs": [
    {
     "data": {
      "text/plain": [
       "[('On', 'IN'),\n",
       " ('May', 'NNP'),\n",
       " ('2023', 'CD'),\n",
       " (',', ','),\n",
       " ('played', 'VBN'),\n",
       " ('last', 'JJ'),\n",
       " ('IPL', 'NNP'),\n",
       " ('match', 'NN'),\n",
       " ('Delhi', 'NNP'),\n",
       " ('Arun', 'NNP'),\n",
       " ('Jaitley', 'NNP'),\n",
       " ('Stadium', 'NNP'),\n",
       " (',', ','),\n",
       " ('Delhi', 'NNP'),\n",
       " (',', ','),\n",
       " ('India', 'NNP'),\n",
       " (',', ','),\n",
       " ('scoring', 'VBG'),\n",
       " ('5', 'CD'),\n",
       " ('runs', 'NNS'),\n",
       " ('4', 'CD'),\n",
       " ('balls', 'NNS'),\n",
       " ('.', '.')]"
      ]
     },
     "execution_count": 59,
     "metadata": {},
     "output_type": "execute_result"
    }
   ],
   "source": [
    "tagged"
   ]
  },
  {
   "cell_type": "code",
   "execution_count": 77,
   "id": "056a9fbc",
   "metadata": {},
   "outputs": [
    {
     "data": {
      "text/plain": [
       "{'IN': 1,\n",
       " 'NNP': 8,\n",
       " 'CD': 3,\n",
       " ',': 4,\n",
       " 'VBN': 1,\n",
       " 'JJ': 1,\n",
       " 'NN': 1,\n",
       " 'VBG': 1,\n",
       " 'NNS': 2,\n",
       " '.': 1}"
      ]
     },
     "execution_count": 77,
     "metadata": {},
     "output_type": "execute_result"
    }
   ],
   "source": [
    "count"
   ]
  },
  {
   "cell_type": "code",
   "execution_count": 68,
   "id": "22f54edf",
   "metadata": {},
   "outputs": [],
   "source": [
    "#NNP, NNs are noun\n",
    "#In conjunction\n",
    "#CD cardinal number\n",
    "#vbn,vbz verb\n",
    "#jj adjective "
   ]
  },
  {
   "cell_type": "code",
   "execution_count": null,
   "id": "dfef3de3",
   "metadata": {},
   "outputs": [],
   "source": []
  }
 ],
 "metadata": {
  "kernelspec": {
   "display_name": "Python 3 (ipykernel)",
   "language": "python",
   "name": "python3"
  },
  "language_info": {
   "codemirror_mode": {
    "name": "ipython",
    "version": 3
   },
   "file_extension": ".py",
   "mimetype": "text/x-python",
   "name": "python",
   "nbconvert_exporter": "python",
   "pygments_lexer": "ipython3",
   "version": "3.9.13"
  }
 },
 "nbformat": 4,
 "nbformat_minor": 5
}
