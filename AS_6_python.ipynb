{
 "cells": [
  {
   "cell_type": "raw",
   "id": "103e87a0",
   "metadata": {},
   "source": [
    "Using the data from Question 3, write code to analyze the data and answer the following questions Note 1.\n",
    "Draw plots to demonstrate the analysis for the following questions for better visualizations.\n",
    "2. Write code comments wherever required for code understanding\n",
    "Insights to be drawn -\n",
    "● Get all Pokemons whose spawn rate is less than 5%\n",
    "● Get all Pokemons that have less than 4 weaknesses\n",
    "● Get all Pokemons that have no multipliers at all\n",
    "● Get all Pokemons that do not have more than 2 evolutions\n",
    "● Get all Pokemons whose spawn time is less than 300 seconds.\n",
    "Note - spawn time format is \"05:32”, so assume “minute: second” format and perform the analysis.\n",
    "● Get all Pokemon who have more than two types of capabilities"
   ]
  },
  {
   "cell_type": "code",
   "execution_count": 1,
   "id": "3e1a3d40",
   "metadata": {},
   "outputs": [],
   "source": [
    "# reading dataframe\n",
    "import pandas as pd\n",
    "df=pd.read_json('pokedex.json')\n",
    "df=df['pokemon'].apply(pd.Series)"
   ]
  },
  {
   "cell_type": "code",
   "execution_count": 2,
   "id": "c881a5e3",
   "metadata": {},
   "outputs": [
    {
     "data": {
      "text/html": [
       "<div>\n",
       "<style scoped>\n",
       "    .dataframe tbody tr th:only-of-type {\n",
       "        vertical-align: middle;\n",
       "    }\n",
       "\n",
       "    .dataframe tbody tr th {\n",
       "        vertical-align: top;\n",
       "    }\n",
       "\n",
       "    .dataframe thead th {\n",
       "        text-align: right;\n",
       "    }\n",
       "</style>\n",
       "<table border=\"1\" class=\"dataframe\">\n",
       "  <thead>\n",
       "    <tr style=\"text-align: right;\">\n",
       "      <th></th>\n",
       "      <th>id</th>\n",
       "      <th>num</th>\n",
       "      <th>name</th>\n",
       "      <th>img</th>\n",
       "      <th>type</th>\n",
       "      <th>height</th>\n",
       "      <th>weight</th>\n",
       "      <th>candy</th>\n",
       "      <th>candy_count</th>\n",
       "      <th>egg</th>\n",
       "      <th>spawn_chance</th>\n",
       "      <th>avg_spawns</th>\n",
       "      <th>spawn_time</th>\n",
       "      <th>multipliers</th>\n",
       "      <th>weaknesses</th>\n",
       "      <th>next_evolution</th>\n",
       "      <th>prev_evolution</th>\n",
       "    </tr>\n",
       "  </thead>\n",
       "  <tbody>\n",
       "    <tr>\n",
       "      <th>0</th>\n",
       "      <td>1</td>\n",
       "      <td>001</td>\n",
       "      <td>Bulbasaur</td>\n",
       "      <td>http://www.serebii.net/pokemongo/pokemon/001.png</td>\n",
       "      <td>[Grass, Poison]</td>\n",
       "      <td>0.71 m</td>\n",
       "      <td>6.9 kg</td>\n",
       "      <td>Bulbasaur Candy</td>\n",
       "      <td>25.0</td>\n",
       "      <td>2 km</td>\n",
       "      <td>0.690</td>\n",
       "      <td>69.0</td>\n",
       "      <td>20:00</td>\n",
       "      <td>[1.58]</td>\n",
       "      <td>[Fire, Ice, Flying, Psychic]</td>\n",
       "      <td>[{'num': '002', 'name': 'Ivysaur'}, {'num': '0...</td>\n",
       "      <td>NaN</td>\n",
       "    </tr>\n",
       "    <tr>\n",
       "      <th>1</th>\n",
       "      <td>2</td>\n",
       "      <td>002</td>\n",
       "      <td>Ivysaur</td>\n",
       "      <td>http://www.serebii.net/pokemongo/pokemon/002.png</td>\n",
       "      <td>[Grass, Poison]</td>\n",
       "      <td>0.99 m</td>\n",
       "      <td>13.0 kg</td>\n",
       "      <td>Bulbasaur Candy</td>\n",
       "      <td>100.0</td>\n",
       "      <td>Not in Eggs</td>\n",
       "      <td>0.042</td>\n",
       "      <td>4.2</td>\n",
       "      <td>07:00</td>\n",
       "      <td>[1.2, 1.6]</td>\n",
       "      <td>[Fire, Ice, Flying, Psychic]</td>\n",
       "      <td>[{'num': '003', 'name': 'Venusaur'}]</td>\n",
       "      <td>[{'num': '001', 'name': 'Bulbasaur'}]</td>\n",
       "    </tr>\n",
       "  </tbody>\n",
       "</table>\n",
       "</div>"
      ],
      "text/plain": [
       "   id  num       name                                               img  \\\n",
       "0   1  001  Bulbasaur  http://www.serebii.net/pokemongo/pokemon/001.png   \n",
       "1   2  002    Ivysaur  http://www.serebii.net/pokemongo/pokemon/002.png   \n",
       "\n",
       "              type  height   weight            candy  candy_count  \\\n",
       "0  [Grass, Poison]  0.71 m   6.9 kg  Bulbasaur Candy         25.0   \n",
       "1  [Grass, Poison]  0.99 m  13.0 kg  Bulbasaur Candy        100.0   \n",
       "\n",
       "           egg  spawn_chance  avg_spawns spawn_time multipliers  \\\n",
       "0         2 km         0.690        69.0      20:00      [1.58]   \n",
       "1  Not in Eggs         0.042         4.2      07:00  [1.2, 1.6]   \n",
       "\n",
       "                     weaknesses  \\\n",
       "0  [Fire, Ice, Flying, Psychic]   \n",
       "1  [Fire, Ice, Flying, Psychic]   \n",
       "\n",
       "                                      next_evolution  \\\n",
       "0  [{'num': '002', 'name': 'Ivysaur'}, {'num': '0...   \n",
       "1               [{'num': '003', 'name': 'Venusaur'}]   \n",
       "\n",
       "                          prev_evolution  \n",
       "0                                    NaN  \n",
       "1  [{'num': '001', 'name': 'Bulbasaur'}]  "
      ]
     },
     "execution_count": 2,
     "metadata": {},
     "output_type": "execute_result"
    }
   ],
   "source": [
    "df.head(2)"
   ]
  },
  {
   "cell_type": "code",
   "execution_count": 3,
   "id": "91e6b05d",
   "metadata": {},
   "outputs": [
    {
     "data": {
      "text/plain": [
       "id                  int64\n",
       "num                object\n",
       "name               object\n",
       "img                object\n",
       "type               object\n",
       "height             object\n",
       "weight             object\n",
       "candy              object\n",
       "candy_count       float64\n",
       "egg                object\n",
       "spawn_chance      float64\n",
       "avg_spawns        float64\n",
       "spawn_time         object\n",
       "multipliers        object\n",
       "weaknesses         object\n",
       "next_evolution     object\n",
       "prev_evolution     object\n",
       "dtype: object"
      ]
     },
     "execution_count": 3,
     "metadata": {},
     "output_type": "execute_result"
    }
   ],
   "source": [
    "df.dtypes"
   ]
  },
  {
   "cell_type": "code",
   "execution_count": 4,
   "id": "563f2728",
   "metadata": {},
   "outputs": [
    {
     "data": {
      "text/plain": [
       "<AxesSubplot:>"
      ]
     },
     "execution_count": 4,
     "metadata": {},
     "output_type": "execute_result"
    },
    {
     "data": {
      "image/png": "[encoded data removed]",
      "text/plain": [
       "<Figure size 640x480 with 1 Axes>"
      ]
     },
     "metadata": {},
     "output_type": "display_data"
    }
   ],
   "source": [
    "df.plot()"
   ]
  },
  {
   "cell_type": "code",
   "execution_count": 7,
   "id": "319a8e40",
   "metadata": {},
   "outputs": [
    {
     "data": {
      "text/plain": [
       "<AxesSubplot:xlabel='id', ylabel='avg_spawns'>"
      ]
     },
     "execution_count": 7,
     "metadata": {},
     "output_type": "execute_result"
    },
    {
     "data": {
      "image/png": "[encoded data removed]",
      "text/plain": [
       "<Figure size 640x480 with 1 Axes>"
      ]
     },
     "metadata": {},
     "output_type": "display_data"
    }
   ],
   "source": [
    "import seaborn as sns \n",
    "sns.scatterplot(x='id',y='avg_spawns',data=df)     #from fig they are non linear "
   ]
  },
  {
   "cell_type": "code",
   "execution_count": 9,
   "id": "fb41a897",
   "metadata": {},
   "outputs": [
    {
     "data": {
      "text/plain": [
       "<AxesSubplot:xlabel='id', ylabel='spawn_chance'>"
      ]
     },
     "execution_count": 9,
     "metadata": {},
     "output_type": "execute_result"
    },
    {
     "data": {
      "image/png": "[encoded data removed]",
      "text/plain": [
       "<Figure size 640x480 with 1 Axes>"
      ]
     },
     "metadata": {},
     "output_type": "display_data"
    }
   ],
   "source": [
    "import seaborn as sns \n",
    "sns.scatterplot(x='id',y='spawn_chance',data=df)      #from fig they are non linear  and have outliers also"
   ]
  },
  {
   "cell_type": "code",
   "execution_count": 11,
   "id": "42e9cf8f",
   "metadata": {},
   "outputs": [
    {
     "data": {
      "text/plain": [
       "<seaborn.axisgrid.PairGrid at 0x230b25d6eb0>"
      ]
     },
     "execution_count": 11,
     "metadata": {},
     "output_type": "execute_result"
    },
    {
     "data": {
      "image/png": "[encoded data removed]",
      "text/plain": [
       "<Figure size 1000x1000 with 20 Axes>"
      ]
     },
     "metadata": {},
     "output_type": "display_data"
    }
   ],
   "source": [
    "sns.pairplot(data=df)      #It gives the pair plot between every int or float variable"
   ]
  },
  {
   "cell_type": "code",
   "execution_count": 13,
   "id": "3581416e",
   "metadata": {},
   "outputs": [],
   "source": [
    "df['spawn_chance']=df['spawn_chance']*100  #converting spawn chance into percentage "
   ]
  },
  {
   "cell_type": "code",
   "execution_count": 18,
   "id": "d71db047",
   "metadata": {},
   "outputs": [
    {
     "data": {
      "text/plain": [
       "0      69\n",
       "1       4\n",
       "2       1\n",
       "3      25\n",
       "4       1\n",
       "       ..\n",
       "146    30\n",
       "147     2\n",
       "148     0\n",
       "149     0\n",
       "150     0\n",
       "Name: spawn_chance, Length: 151, dtype: int32"
      ]
     },
     "execution_count": 18,
     "metadata": {},
     "output_type": "execute_result"
    }
   ],
   "source": [
    "df['spawn_chance'].astype('int')  #converting data type"
   ]
  },
  {
   "cell_type": "code",
   "execution_count": 17,
   "id": "f3485530",
   "metadata": {},
   "outputs": [
    {
     "data": {
      "text/plain": [
       "id                  int64\n",
       "num                object\n",
       "name               object\n",
       "img                object\n",
       "type               object\n",
       "height             object\n",
       "weight             object\n",
       "candy              object\n",
       "candy_count       float64\n",
       "egg                object\n",
       "spawn_chance      float64\n",
       "avg_spawns        float64\n",
       "spawn_time         object\n",
       "multipliers        object\n",
       "weaknesses         object\n",
       "next_evolution     object\n",
       "prev_evolution     object\n",
       "dtype: object"
      ]
     },
     "execution_count": 17,
     "metadata": {},
     "output_type": "execute_result"
    }
   ],
   "source": [
    "df.dtypes"
   ]
  },
  {
   "cell_type": "raw",
   "id": "3733366c",
   "metadata": {},
   "source": [
    "Get all Pokemons whose spawn rate is less than 5%\n"
   ]
  },
  {
   "cell_type": "code",
   "execution_count": 23,
   "id": "abfdf1fb",
   "metadata": {},
   "outputs": [
    {
     "data": {
      "text/plain": [
       "1         Ivysaur\n",
       "2        Venusaur\n",
       "4      Charmeleon\n",
       "5       Charizard\n",
       "7       Wartortle\n",
       "          ...    \n",
       "145       Moltres\n",
       "147     Dragonair\n",
       "148     Dragonite\n",
       "149        Mewtwo\n",
       "150           Mew\n",
       "Name: name, Length: 65, dtype: object"
      ]
     },
     "execution_count": 23,
     "metadata": {},
     "output_type": "execute_result"
    }
   ],
   "source": [
    "df[df['spawn_chance']<5]['name']   #finding pokemon whoes spawn rate is less than 5%"
   ]
  },
  {
   "cell_type": "raw",
   "id": "db33c787",
   "metadata": {},
   "source": [
    "Get all Pokemons that have less than 4 weaknesses\n"
   ]
  },
  {
   "cell_type": "code",
   "execution_count": 19,
   "id": "6af94773",
   "metadata": {},
   "outputs": [],
   "source": [
    "pok=[]\n",
    "for i in range(len(df['weaknesses'])):                #extracting name of poikeman whose weak ness less tahn four\n",
    "    if len(df['weaknesses'][i])<4:\n",
    "        pok.append(df['name'][i])\n",
    "        "
   ]
  },
  {
   "cell_type": "code",
   "execution_count": 20,
   "id": "fba030dc",
   "metadata": {},
   "outputs": [
    {
     "data": {
      "text/plain": [
       "['Charmander',\n",
       " 'Charmeleon',\n",
       " 'Charizard',\n",
       " 'Squirtle',\n",
       " 'Wartortle',\n",
       " 'Blastoise',\n",
       " 'Caterpie',\n",
       " 'Metapod',\n",
       " 'Pidgey',\n",
       " 'Pidgeotto',\n",
       " 'Pidgeot',\n",
       " 'Rattata',\n",
       " 'Raticate',\n",
       " 'Spearow',\n",
       " 'Fearow',\n",
       " 'Ekans',\n",
       " 'Arbok',\n",
       " 'Pikachu',\n",
       " 'Raichu',\n",
       " 'Sandshrew',\n",
       " 'Sandslash',\n",
       " 'Nidoran ♀ (Female)',\n",
       " 'Nidorina',\n",
       " 'Nidoran ♂ (Male)',\n",
       " 'Nidorino',\n",
       " 'Clefairy',\n",
       " 'Clefable',\n",
       " 'Vulpix',\n",
       " 'Ninetales',\n",
       " 'Jigglypuff',\n",
       " 'Wigglytuff',\n",
       " 'Diglett',\n",
       " 'Dugtrio',\n",
       " 'Meowth',\n",
       " 'Persian',\n",
       " 'Psyduck',\n",
       " 'Golduck',\n",
       " 'Mankey',\n",
       " 'Primeape',\n",
       " 'Growlithe',\n",
       " 'Arcanine',\n",
       " 'Poliwag',\n",
       " 'Poliwhirl',\n",
       " 'Abra',\n",
       " 'Kadabra',\n",
       " 'Alakazam',\n",
       " 'Machop',\n",
       " 'Machoke',\n",
       " 'Machamp',\n",
       " 'Tentacool',\n",
       " 'Tentacruel',\n",
       " 'Ponyta',\n",
       " 'Rapidash',\n",
       " 'Magnemite',\n",
       " 'Magneton',\n",
       " \"Farfetch'd\",\n",
       " 'Doduo',\n",
       " 'Dodrio',\n",
       " 'Seel',\n",
       " 'Grimer',\n",
       " 'Muk',\n",
       " 'Shellder',\n",
       " 'Drowzee',\n",
       " 'Hypno',\n",
       " 'Krabby',\n",
       " 'Kingler',\n",
       " 'Voltorb',\n",
       " 'Electrode',\n",
       " 'Cubone',\n",
       " 'Marowak',\n",
       " 'Hitmonlee',\n",
       " 'Hitmonchan',\n",
       " 'Lickitung',\n",
       " 'Koffing',\n",
       " 'Weezing',\n",
       " 'Chansey',\n",
       " 'Kangaskhan',\n",
       " 'Horsea',\n",
       " 'Seadra',\n",
       " 'Goldeen',\n",
       " 'Seaking',\n",
       " 'Staryu',\n",
       " 'Mr. Mime',\n",
       " 'Electabuzz',\n",
       " 'Magmar',\n",
       " 'Pinsir',\n",
       " 'Tauros',\n",
       " 'Magikarp',\n",
       " 'Gyarados',\n",
       " 'Ditto',\n",
       " 'Eevee',\n",
       " 'Vaporeon',\n",
       " 'Jolteon',\n",
       " 'Flareon',\n",
       " 'Porygon',\n",
       " 'Snorlax',\n",
       " 'Zapdos',\n",
       " 'Moltres',\n",
       " 'Dratini',\n",
       " 'Dragonair',\n",
       " 'Mewtwo',\n",
       " 'Mew']"
      ]
     },
     "execution_count": 20,
     "metadata": {},
     "output_type": "execute_result"
    }
   ],
   "source": [
    "pok"
   ]
  },
  {
   "cell_type": "code",
   "execution_count": 21,
   "id": "5179a239",
   "metadata": {},
   "outputs": [
    {
     "data": {
      "text/plain": [
       "102"
      ]
     },
     "execution_count": 21,
     "metadata": {},
     "output_type": "execute_result"
    }
   ],
   "source": [
    "len(pok)"
   ]
  },
  {
   "cell_type": "raw",
   "id": "a0608b27",
   "metadata": {},
   "source": [
    "Get all Pokemons that have no multipliers at all"
   ]
  },
  {
   "cell_type": "code",
   "execution_count": 23,
   "id": "11523b6d",
   "metadata": {},
   "outputs": [],
   "source": [
    "rr=[]                                   #iterating using fpor loop to extract data from the multipliers\n",
    "for i in range(len(df['multipliers'])):\n",
    "    if type(df['multipliers'][i])!=list:\n",
    "        rr.append(df['name'][i])"
   ]
  },
  {
   "cell_type": "code",
   "execution_count": 24,
   "id": "501632ed",
   "metadata": {},
   "outputs": [
    {
     "data": {
      "text/plain": [
       "['Venusaur',\n",
       " 'Charizard',\n",
       " 'Blastoise',\n",
       " 'Butterfree',\n",
       " 'Beedrill',\n",
       " 'Pidgeot',\n",
       " 'Raticate',\n",
       " 'Fearow',\n",
       " 'Arbok',\n",
       " 'Raichu',\n",
       " 'Sandslash',\n",
       " 'Nidoqueen',\n",
       " 'Nidoking',\n",
       " 'Clefable',\n",
       " 'Ninetales',\n",
       " 'Wigglytuff',\n",
       " 'Golbat',\n",
       " 'Vileplume',\n",
       " 'Parasect',\n",
       " 'Venomoth',\n",
       " 'Dugtrio',\n",
       " 'Persian',\n",
       " 'Golduck',\n",
       " 'Primeape',\n",
       " 'Arcanine',\n",
       " 'Poliwrath',\n",
       " 'Alakazam',\n",
       " 'Machamp',\n",
       " 'Victreebel',\n",
       " 'Tentacruel',\n",
       " 'Golem',\n",
       " 'Rapidash',\n",
       " 'Slowbro',\n",
       " 'Magneton',\n",
       " \"Farfetch'd\",\n",
       " 'Dodrio',\n",
       " 'Dewgong',\n",
       " 'Muk',\n",
       " 'Cloyster',\n",
       " 'Gengar',\n",
       " 'Onix',\n",
       " 'Hypno',\n",
       " 'Kingler',\n",
       " 'Electrode',\n",
       " 'Exeggutor',\n",
       " 'Marowak',\n",
       " 'Hitmonlee',\n",
       " 'Hitmonchan',\n",
       " 'Lickitung',\n",
       " 'Weezing',\n",
       " 'Rhydon',\n",
       " 'Chansey',\n",
       " 'Tangela',\n",
       " 'Kangaskhan',\n",
       " 'Seadra',\n",
       " 'Seaking',\n",
       " 'Starmie',\n",
       " 'Mr. Mime',\n",
       " 'Scyther',\n",
       " 'Jynx',\n",
       " 'Electabuzz',\n",
       " 'Magmar',\n",
       " 'Pinsir',\n",
       " 'Tauros',\n",
       " 'Gyarados',\n",
       " 'Lapras',\n",
       " 'Ditto',\n",
       " 'Vaporeon',\n",
       " 'Jolteon',\n",
       " 'Flareon',\n",
       " 'Porygon',\n",
       " 'Omastar',\n",
       " 'Kabutops',\n",
       " 'Aerodactyl',\n",
       " 'Snorlax',\n",
       " 'Articuno',\n",
       " 'Zapdos',\n",
       " 'Moltres',\n",
       " 'Dragonite',\n",
       " 'Mewtwo',\n",
       " 'Mew']"
      ]
     },
     "execution_count": 24,
     "metadata": {},
     "output_type": "execute_result"
    }
   ],
   "source": [
    "rr"
   ]
  },
  {
   "cell_type": "raw",
   "id": "0e8319d5",
   "metadata": {},
   "source": [
    "Get all Pokemons that do not have more than 2 evolutions"
   ]
  },
  {
   "cell_type": "code",
   "execution_count": 26,
   "id": "7427a45d",
   "metadata": {},
   "outputs": [],
   "source": [
    "df['evolutions']=df['next_evolution']+df['prev_evolution']     #crating new column with adding next and prev evolution"
   ]
  },
  {
   "cell_type": "code",
   "execution_count": 28,
   "id": "a4a19667",
   "metadata": {},
   "outputs": [
    {
     "data": {
      "text/plain": [
       "0                                                    NaN\n",
       "1      [{'num': '003', 'name': 'Venusaur'}, {'num': '...\n",
       "2                                                    NaN\n",
       "3                                                    NaN\n",
       "4      [{'num': '006', 'name': 'Charizard'}, {'num': ...\n",
       "                             ...                        \n",
       "146                                                  NaN\n",
       "147    [{'num': '149', 'name': 'Dragonite'}, {'num': ...\n",
       "148                                                  NaN\n",
       "149                                                  NaN\n",
       "150                                                  NaN\n",
       "Name: evolutions, Length: 151, dtype: object"
      ]
     },
     "execution_count": 28,
     "metadata": {},
     "output_type": "execute_result"
    }
   ],
   "source": [
    "df['evolutions']"
   ]
  },
  {
   "cell_type": "code",
   "execution_count": 30,
   "id": "3f6b00c2",
   "metadata": {},
   "outputs": [],
   "source": [
    "evl=[] \n",
    "for i in range(len(df['evolutions'])):\n",
    "    if type(df['evolutions'][i])==list:\n",
    "        evl.append(df['evolutions'][i])\n",
    "        evl.append(df['name'][i])                #finding a list whose evolutions are list"
   ]
  },
  {
   "cell_type": "code",
   "execution_count": 31,
   "id": "4bedc82e",
   "metadata": {},
   "outputs": [
    {
     "data": {
      "text/plain": [
       "[[{'num': '003', 'name': 'Venusaur'}, {'num': '001', 'name': 'Bulbasaur'}],\n",
       " 'Ivysaur',\n",
       " [{'num': '006', 'name': 'Charizard'}, {'num': '004', 'name': 'Charmander'}],\n",
       " 'Charmeleon',\n",
       " [{'num': '009', 'name': 'Blastoise'}, {'num': '007', 'name': 'Squirtle'}],\n",
       " 'Wartortle',\n",
       " [{'num': '012', 'name': 'Butterfree'}, {'num': '010', 'name': 'Caterpie'}],\n",
       " 'Metapod',\n",
       " [{'num': '015', 'name': 'Beedrill'}, {'num': '013', 'name': 'Weedle'}],\n",
       " 'Kakuna',\n",
       " [{'num': '018', 'name': 'Pidgeot'}, {'num': '016', 'name': 'Pidgey'}],\n",
       " 'Pidgeotto',\n",
       " [{'num': '031', 'name': 'Nidoqueen'},\n",
       "  {'num': '029', 'name': 'Nidoran(Female)'}],\n",
       " 'Nidorina',\n",
       " [{'num': '034', 'name': 'Nidoking'}, {'num': '032', 'name': 'Nidoran(Male)'}],\n",
       " 'Nidorino',\n",
       " [{'num': '045', 'name': 'Vileplume'}, {'num': '043', 'name': 'Oddish'}],\n",
       " 'Gloom',\n",
       " [{'num': '062', 'name': 'Poliwrath'}, {'num': '060', 'name': 'Poliwag'}],\n",
       " 'Poliwhirl',\n",
       " [{'num': '065', 'name': 'Alakazam'}, {'num': '063', 'name': 'Abra'}],\n",
       " 'Kadabra',\n",
       " [{'num': '068', 'name': 'Machamp'}, {'num': '066', 'name': 'Machop'}],\n",
       " 'Machoke',\n",
       " [{'num': '071', 'name': 'Victreebel'}, {'num': '069', 'name': 'Bellsprout'}],\n",
       " 'Weepinbell',\n",
       " [{'num': '076', 'name': 'Golem'}, {'num': '074', 'name': 'Geodude'}],\n",
       " 'Graveler',\n",
       " [{'num': '094', 'name': 'Gengar'}, {'num': '092', 'name': 'Gastly'}],\n",
       " 'Haunter',\n",
       " [{'num': '149', 'name': 'Dragonite'}, {'num': '147', 'name': 'Dratini'}],\n",
       " 'Dragonair']"
      ]
     },
     "execution_count": 31,
     "metadata": {},
     "output_type": "execute_result"
    }
   ],
   "source": [
    "evl"
   ]
  },
  {
   "cell_type": "raw",
   "id": "bc84584f",
   "metadata": {},
   "source": [
    "Get all Pokemons whose spawn time is less than 300 seconds"
   ]
  },
  {
   "cell_type": "code",
   "execution_count": 34,
   "id": "511d82e4",
   "metadata": {},
   "outputs": [],
   "source": [
    "df['spawn_time']=pd.to_datetime(df['spawn_time'],infer_datetime_format=True,errors='coerce')     #converting into datetime format"
   ]
  },
  {
   "cell_type": "code",
   "execution_count": 35,
   "id": "b2a17caa",
   "metadata": {},
   "outputs": [],
   "source": [
    "df['minute']=df['spawn_time'].dt.hour #  extracting minutes , where he was given only minute and second format"
   ]
  },
  {
   "cell_type": "code",
   "execution_count": 36,
   "id": "136a95af",
   "metadata": {},
   "outputs": [
    {
     "data": {
      "text/plain": [
       "0      20.0\n",
       "1       7.0\n",
       "2      11.0\n",
       "3       8.0\n",
       "4      19.0\n",
       "       ... \n",
       "146     6.0\n",
       "147    11.0\n",
       "148    23.0\n",
       "149     NaN\n",
       "150     NaN\n",
       "Name: minute, Length: 151, dtype: float64"
      ]
     },
     "execution_count": 36,
     "metadata": {},
     "output_type": "execute_result"
    }
   ],
   "source": [
    "df['minute']          "
   ]
  },
  {
   "cell_type": "code",
   "execution_count": 37,
   "id": "ee64986c",
   "metadata": {},
   "outputs": [],
   "source": [
    "df['minute']=df['minute'].apply(lambda x:x *60)    #applying a lambda function for converting minutes into seconds"
   ]
  },
  {
   "cell_type": "code",
   "execution_count": 38,
   "id": "fc42ab83",
   "metadata": {},
   "outputs": [
    {
     "data": {
      "text/plain": [
       "0      1200.0\n",
       "1       420.0\n",
       "2       660.0\n",
       "3       480.0\n",
       "4      1140.0\n",
       "        ...  \n",
       "146     360.0\n",
       "147     660.0\n",
       "148    1380.0\n",
       "149       NaN\n",
       "150       NaN\n",
       "Name: minute, Length: 151, dtype: float64"
      ]
     },
     "execution_count": 38,
     "metadata": {},
     "output_type": "execute_result"
    }
   ],
   "source": [
    "df['minute']"
   ]
  },
  {
   "cell_type": "code",
   "execution_count": 43,
   "id": "501668c8",
   "metadata": {},
   "outputs": [],
   "source": [
    "df['second']=df['spawn_time'].dt.minute     #extracting seconds"
   ]
  },
  {
   "cell_type": "code",
   "execution_count": 44,
   "id": "893e82c8",
   "metadata": {},
   "outputs": [],
   "source": [
    "df['span_time_second']=df['minute']+df['second']    #adding minute and second column to get new column as seconds"
   ]
  },
  {
   "cell_type": "code",
   "execution_count": 45,
   "id": "b0d77c14",
   "metadata": {},
   "outputs": [],
   "source": [
    "df['span_time_second']=df['minute']+df['second']"
   ]
  },
  {
   "cell_type": "code",
   "execution_count": 46,
   "id": "1a2ff9c8",
   "metadata": {},
   "outputs": [
    {
     "data": {
      "text/html": [
       "<div>\n",
       "<style scoped>\n",
       "    .dataframe tbody tr th:only-of-type {\n",
       "        vertical-align: middle;\n",
       "    }\n",
       "\n",
       "    .dataframe tbody tr th {\n",
       "        vertical-align: top;\n",
       "    }\n",
       "\n",
       "    .dataframe thead th {\n",
       "        text-align: right;\n",
       "    }\n",
       "</style>\n",
       "<table border=\"1\" class=\"dataframe\">\n",
       "  <thead>\n",
       "    <tr style=\"text-align: right;\">\n",
       "      <th></th>\n",
       "      <th>id</th>\n",
       "      <th>num</th>\n",
       "      <th>name</th>\n",
       "      <th>img</th>\n",
       "      <th>type</th>\n",
       "      <th>height</th>\n",
       "      <th>weight</th>\n",
       "      <th>candy</th>\n",
       "      <th>candy_count</th>\n",
       "      <th>egg</th>\n",
       "      <th>...</th>\n",
       "      <th>avg_spawns</th>\n",
       "      <th>spawn_time</th>\n",
       "      <th>multipliers</th>\n",
       "      <th>weaknesses</th>\n",
       "      <th>next_evolution</th>\n",
       "      <th>prev_evolution</th>\n",
       "      <th>evolutions</th>\n",
       "      <th>minute</th>\n",
       "      <th>second</th>\n",
       "      <th>span_time_second</th>\n",
       "    </tr>\n",
       "  </thead>\n",
       "  <tbody>\n",
       "    <tr>\n",
       "      <th>6</th>\n",
       "      <td>7</td>\n",
       "      <td>007</td>\n",
       "      <td>Squirtle</td>\n",
       "      <td>http://www.serebii.net/pokemongo/pokemon/007.png</td>\n",
       "      <td>[Water]</td>\n",
       "      <td>0.51 m</td>\n",
       "      <td>9.0 kg</td>\n",
       "      <td>Squirtle Candy</td>\n",
       "      <td>25.0</td>\n",
       "      <td>2 km</td>\n",
       "      <td>...</td>\n",
       "      <td>58.00</td>\n",
       "      <td>2023-05-23 04:25:00</td>\n",
       "      <td>[2.1]</td>\n",
       "      <td>[Electric, Grass]</td>\n",
       "      <td>[{'num': '008', 'name': 'Wartortle'}, {'num': ...</td>\n",
       "      <td>NaN</td>\n",
       "      <td>NaN</td>\n",
       "      <td>240.0</td>\n",
       "      <td>25.0</td>\n",
       "      <td>265.0</td>\n",
       "    </tr>\n",
       "    <tr>\n",
       "      <th>8</th>\n",
       "      <td>9</td>\n",
       "      <td>009</td>\n",
       "      <td>Blastoise</td>\n",
       "      <td>http://www.serebii.net/pokemongo/pokemon/009.png</td>\n",
       "      <td>[Water]</td>\n",
       "      <td>1.60 m</td>\n",
       "      <td>85.5 kg</td>\n",
       "      <td>Squirtle Candy</td>\n",
       "      <td>NaN</td>\n",
       "      <td>Not in Eggs</td>\n",
       "      <td>...</td>\n",
       "      <td>0.67</td>\n",
       "      <td>2023-05-23 00:06:00</td>\n",
       "      <td>None</td>\n",
       "      <td>[Electric, Grass]</td>\n",
       "      <td>NaN</td>\n",
       "      <td>[{'num': '007', 'name': 'Squirtle'}, {'num': '...</td>\n",
       "      <td>NaN</td>\n",
       "      <td>0.0</td>\n",
       "      <td>6.0</td>\n",
       "      <td>6.0</td>\n",
       "    </tr>\n",
       "    <tr>\n",
       "      <th>10</th>\n",
       "      <td>11</td>\n",
       "      <td>011</td>\n",
       "      <td>Metapod</td>\n",
       "      <td>http://www.serebii.net/pokemongo/pokemon/011.png</td>\n",
       "      <td>[Bug]</td>\n",
       "      <td>0.71 m</td>\n",
       "      <td>9.9 kg</td>\n",
       "      <td>Caterpie Candy</td>\n",
       "      <td>50.0</td>\n",
       "      <td>Not in Eggs</td>\n",
       "      <td>...</td>\n",
       "      <td>18.70</td>\n",
       "      <td>2023-05-23 02:11:00</td>\n",
       "      <td>[3.55, 3.79]</td>\n",
       "      <td>[Fire, Flying, Rock]</td>\n",
       "      <td>[{'num': '012', 'name': 'Butterfree'}]</td>\n",
       "      <td>[{'num': '010', 'name': 'Caterpie'}]</td>\n",
       "      <td>[{'num': '012', 'name': 'Butterfree'}, {'num':...</td>\n",
       "      <td>120.0</td>\n",
       "      <td>11.0</td>\n",
       "      <td>131.0</td>\n",
       "    </tr>\n",
       "    <tr>\n",
       "      <th>12</th>\n",
       "      <td>13</td>\n",
       "      <td>013</td>\n",
       "      <td>Weedle</td>\n",
       "      <td>http://www.serebii.net/pokemongo/pokemon/013.png</td>\n",
       "      <td>[Bug, Poison]</td>\n",
       "      <td>0.30 m</td>\n",
       "      <td>3.2 kg</td>\n",
       "      <td>Weedle Candy</td>\n",
       "      <td>12.0</td>\n",
       "      <td>2 km</td>\n",
       "      <td>...</td>\n",
       "      <td>712.00</td>\n",
       "      <td>2023-05-23 02:21:00</td>\n",
       "      <td>[1.01, 1.09]</td>\n",
       "      <td>[Fire, Flying, Psychic, Rock]</td>\n",
       "      <td>[{'num': '014', 'name': 'Kakuna'}, {'num': '01...</td>\n",
       "      <td>NaN</td>\n",
       "      <td>NaN</td>\n",
       "      <td>120.0</td>\n",
       "      <td>21.0</td>\n",
       "      <td>141.0</td>\n",
       "    </tr>\n",
       "    <tr>\n",
       "      <th>13</th>\n",
       "      <td>14</td>\n",
       "      <td>014</td>\n",
       "      <td>Kakuna</td>\n",
       "      <td>http://www.serebii.net/pokemongo/pokemon/014.png</td>\n",
       "      <td>[Bug, Poison]</td>\n",
       "      <td>0.61 m</td>\n",
       "      <td>10.0 kg</td>\n",
       "      <td>Weedle Candy</td>\n",
       "      <td>50.0</td>\n",
       "      <td>Not in Eggs</td>\n",
       "      <td>...</td>\n",
       "      <td>44.00</td>\n",
       "      <td>2023-05-23 02:30:00</td>\n",
       "      <td>[3.01, 3.41]</td>\n",
       "      <td>[Fire, Flying, Psychic, Rock]</td>\n",
       "      <td>[{'num': '015', 'name': 'Beedrill'}]</td>\n",
       "      <td>[{'num': '013', 'name': 'Weedle'}]</td>\n",
       "      <td>[{'num': '015', 'name': 'Beedrill'}, {'num': '...</td>\n",
       "      <td>120.0</td>\n",
       "      <td>30.0</td>\n",
       "      <td>150.0</td>\n",
       "    </tr>\n",
       "    <tr>\n",
       "      <th>...</th>\n",
       "      <td>...</td>\n",
       "      <td>...</td>\n",
       "      <td>...</td>\n",
       "      <td>...</td>\n",
       "      <td>...</td>\n",
       "      <td>...</td>\n",
       "      <td>...</td>\n",
       "      <td>...</td>\n",
       "      <td>...</td>\n",
       "      <td>...</td>\n",
       "      <td>...</td>\n",
       "      <td>...</td>\n",
       "      <td>...</td>\n",
       "      <td>...</td>\n",
       "      <td>...</td>\n",
       "      <td>...</td>\n",
       "      <td>...</td>\n",
       "      <td>...</td>\n",
       "      <td>...</td>\n",
       "      <td>...</td>\n",
       "      <td>...</td>\n",
       "    </tr>\n",
       "    <tr>\n",
       "      <th>127</th>\n",
       "      <td>128</td>\n",
       "      <td>128</td>\n",
       "      <td>Tauros</td>\n",
       "      <td>http://www.serebii.net/pokemongo/pokemon/128.png</td>\n",
       "      <td>[Normal]</td>\n",
       "      <td>1.40 m</td>\n",
       "      <td>88.4 kg</td>\n",
       "      <td>None</td>\n",
       "      <td>NaN</td>\n",
       "      <td>5 km</td>\n",
       "      <td>...</td>\n",
       "      <td>12.00</td>\n",
       "      <td>2023-05-23 00:37:00</td>\n",
       "      <td>None</td>\n",
       "      <td>[Fighting]</td>\n",
       "      <td>NaN</td>\n",
       "      <td>NaN</td>\n",
       "      <td>NaN</td>\n",
       "      <td>0.0</td>\n",
       "      <td>37.0</td>\n",
       "      <td>37.0</td>\n",
       "    </tr>\n",
       "    <tr>\n",
       "      <th>129</th>\n",
       "      <td>130</td>\n",
       "      <td>130</td>\n",
       "      <td>Gyarados</td>\n",
       "      <td>http://www.serebii.net/pokemongo/pokemon/130.png</td>\n",
       "      <td>[Water, Flying]</td>\n",
       "      <td>6.50 m</td>\n",
       "      <td>235.0 kg</td>\n",
       "      <td>Magikarp Candy</td>\n",
       "      <td>NaN</td>\n",
       "      <td>Not in Eggs</td>\n",
       "      <td>...</td>\n",
       "      <td>0.32</td>\n",
       "      <td>2023-05-23 02:15:00</td>\n",
       "      <td>None</td>\n",
       "      <td>[Electric, Rock]</td>\n",
       "      <td>NaN</td>\n",
       "      <td>[{'num': '129', 'name': 'Magikarp'}]</td>\n",
       "      <td>NaN</td>\n",
       "      <td>120.0</td>\n",
       "      <td>15.0</td>\n",
       "      <td>135.0</td>\n",
       "    </tr>\n",
       "    <tr>\n",
       "      <th>134</th>\n",
       "      <td>135</td>\n",
       "      <td>135</td>\n",
       "      <td>Jolteon</td>\n",
       "      <td>http://www.serebii.net/pokemongo/pokemon/135.png</td>\n",
       "      <td>[Electric]</td>\n",
       "      <td>0.79 m</td>\n",
       "      <td>24.5 kg</td>\n",
       "      <td>None</td>\n",
       "      <td>NaN</td>\n",
       "      <td>Not in Eggs</td>\n",
       "      <td>...</td>\n",
       "      <td>1.20</td>\n",
       "      <td>2023-05-23 02:30:00</td>\n",
       "      <td>None</td>\n",
       "      <td>[Ground]</td>\n",
       "      <td>NaN</td>\n",
       "      <td>[{'num': '133', 'name': 'Eevee'}]</td>\n",
       "      <td>NaN</td>\n",
       "      <td>120.0</td>\n",
       "      <td>30.0</td>\n",
       "      <td>150.0</td>\n",
       "    </tr>\n",
       "    <tr>\n",
       "      <th>136</th>\n",
       "      <td>137</td>\n",
       "      <td>137</td>\n",
       "      <td>Porygon</td>\n",
       "      <td>http://www.serebii.net/pokemongo/pokemon/137.png</td>\n",
       "      <td>[Normal]</td>\n",
       "      <td>0.79 m</td>\n",
       "      <td>36.5 kg</td>\n",
       "      <td>None</td>\n",
       "      <td>NaN</td>\n",
       "      <td>5 km</td>\n",
       "      <td>...</td>\n",
       "      <td>1.20</td>\n",
       "      <td>2023-05-23 02:49:00</td>\n",
       "      <td>None</td>\n",
       "      <td>[Fighting]</td>\n",
       "      <td>NaN</td>\n",
       "      <td>NaN</td>\n",
       "      <td>NaN</td>\n",
       "      <td>120.0</td>\n",
       "      <td>49.0</td>\n",
       "      <td>169.0</td>\n",
       "    </tr>\n",
       "    <tr>\n",
       "      <th>139</th>\n",
       "      <td>140</td>\n",
       "      <td>140</td>\n",
       "      <td>Kabuto</td>\n",
       "      <td>http://www.serebii.net/pokemongo/pokemon/140.png</td>\n",
       "      <td>[Rock, Water]</td>\n",
       "      <td>0.51 m</td>\n",
       "      <td>11.5 kg</td>\n",
       "      <td>Kabuto Candy</td>\n",
       "      <td>50.0</td>\n",
       "      <td>10 km</td>\n",
       "      <td>...</td>\n",
       "      <td>10.00</td>\n",
       "      <td>2023-05-23 00:05:00</td>\n",
       "      <td>[1.97, 2.37]</td>\n",
       "      <td>[Electric, Grass, Fighting, Ground]</td>\n",
       "      <td>[{'num': '141', 'name': 'Kabutops'}]</td>\n",
       "      <td>NaN</td>\n",
       "      <td>NaN</td>\n",
       "      <td>0.0</td>\n",
       "      <td>5.0</td>\n",
       "      <td>5.0</td>\n",
       "    </tr>\n",
       "  </tbody>\n",
       "</table>\n",
       "<p>75 rows × 21 columns</p>\n",
       "</div>"
      ],
      "text/plain": [
       "      id  num       name                                               img  \\\n",
       "6      7  007   Squirtle  http://www.serebii.net/pokemongo/pokemon/007.png   \n",
       "8      9  009  Blastoise  http://www.serebii.net/pokemongo/pokemon/009.png   \n",
       "10    11  011    Metapod  http://www.serebii.net/pokemongo/pokemon/011.png   \n",
       "12    13  013     Weedle  http://www.serebii.net/pokemongo/pokemon/013.png   \n",
       "13    14  014     Kakuna  http://www.serebii.net/pokemongo/pokemon/014.png   \n",
       "..   ...  ...        ...                                               ...   \n",
       "127  128  128     Tauros  http://www.serebii.net/pokemongo/pokemon/128.png   \n",
       "129  130  130   Gyarados  http://www.serebii.net/pokemongo/pokemon/130.png   \n",
       "134  135  135    Jolteon  http://www.serebii.net/pokemongo/pokemon/135.png   \n",
       "136  137  137    Porygon  http://www.serebii.net/pokemongo/pokemon/137.png   \n",
       "139  140  140     Kabuto  http://www.serebii.net/pokemongo/pokemon/140.png   \n",
       "\n",
       "                type  height    weight           candy  candy_count  \\\n",
       "6            [Water]  0.51 m    9.0 kg  Squirtle Candy         25.0   \n",
       "8            [Water]  1.60 m   85.5 kg  Squirtle Candy          NaN   \n",
       "10             [Bug]  0.71 m    9.9 kg  Caterpie Candy         50.0   \n",
       "12     [Bug, Poison]  0.30 m    3.2 kg    Weedle Candy         12.0   \n",
       "13     [Bug, Poison]  0.61 m   10.0 kg    Weedle Candy         50.0   \n",
       "..               ...     ...       ...             ...          ...   \n",
       "127         [Normal]  1.40 m   88.4 kg            None          NaN   \n",
       "129  [Water, Flying]  6.50 m  235.0 kg  Magikarp Candy          NaN   \n",
       "134       [Electric]  0.79 m   24.5 kg            None          NaN   \n",
       "136         [Normal]  0.79 m   36.5 kg            None          NaN   \n",
       "139    [Rock, Water]  0.51 m   11.5 kg    Kabuto Candy         50.0   \n",
       "\n",
       "             egg  ...  avg_spawns          spawn_time   multipliers  \\\n",
       "6           2 km  ...       58.00 2023-05-23 04:25:00         [2.1]   \n",
       "8    Not in Eggs  ...        0.67 2023-05-23 00:06:00          None   \n",
       "10   Not in Eggs  ...       18.70 2023-05-23 02:11:00  [3.55, 3.79]   \n",
       "12          2 km  ...      712.00 2023-05-23 02:21:00  [1.01, 1.09]   \n",
       "13   Not in Eggs  ...       44.00 2023-05-23 02:30:00  [3.01, 3.41]   \n",
       "..           ...  ...         ...                 ...           ...   \n",
       "127         5 km  ...       12.00 2023-05-23 00:37:00          None   \n",
       "129  Not in Eggs  ...        0.32 2023-05-23 02:15:00          None   \n",
       "134  Not in Eggs  ...        1.20 2023-05-23 02:30:00          None   \n",
       "136         5 km  ...        1.20 2023-05-23 02:49:00          None   \n",
       "139        10 km  ...       10.00 2023-05-23 00:05:00  [1.97, 2.37]   \n",
       "\n",
       "                              weaknesses  \\\n",
       "6                      [Electric, Grass]   \n",
       "8                      [Electric, Grass]   \n",
       "10                  [Fire, Flying, Rock]   \n",
       "12         [Fire, Flying, Psychic, Rock]   \n",
       "13         [Fire, Flying, Psychic, Rock]   \n",
       "..                                   ...   \n",
       "127                           [Fighting]   \n",
       "129                     [Electric, Rock]   \n",
       "134                             [Ground]   \n",
       "136                           [Fighting]   \n",
       "139  [Electric, Grass, Fighting, Ground]   \n",
       "\n",
       "                                        next_evolution  \\\n",
       "6    [{'num': '008', 'name': 'Wartortle'}, {'num': ...   \n",
       "8                                                  NaN   \n",
       "10              [{'num': '012', 'name': 'Butterfree'}]   \n",
       "12   [{'num': '014', 'name': 'Kakuna'}, {'num': '01...   \n",
       "13                [{'num': '015', 'name': 'Beedrill'}]   \n",
       "..                                                 ...   \n",
       "127                                                NaN   \n",
       "129                                                NaN   \n",
       "134                                                NaN   \n",
       "136                                                NaN   \n",
       "139               [{'num': '141', 'name': 'Kabutops'}]   \n",
       "\n",
       "                                        prev_evolution  \\\n",
       "6                                                  NaN   \n",
       "8    [{'num': '007', 'name': 'Squirtle'}, {'num': '...   \n",
       "10                [{'num': '010', 'name': 'Caterpie'}]   \n",
       "12                                                 NaN   \n",
       "13                  [{'num': '013', 'name': 'Weedle'}]   \n",
       "..                                                 ...   \n",
       "127                                                NaN   \n",
       "129               [{'num': '129', 'name': 'Magikarp'}]   \n",
       "134                  [{'num': '133', 'name': 'Eevee'}]   \n",
       "136                                                NaN   \n",
       "139                                                NaN   \n",
       "\n",
       "                                            evolutions minute  second  \\\n",
       "6                                                  NaN  240.0    25.0   \n",
       "8                                                  NaN    0.0     6.0   \n",
       "10   [{'num': '012', 'name': 'Butterfree'}, {'num':...  120.0    11.0   \n",
       "12                                                 NaN  120.0    21.0   \n",
       "13   [{'num': '015', 'name': 'Beedrill'}, {'num': '...  120.0    30.0   \n",
       "..                                                 ...    ...     ...   \n",
       "127                                                NaN    0.0    37.0   \n",
       "129                                                NaN  120.0    15.0   \n",
       "134                                                NaN  120.0    30.0   \n",
       "136                                                NaN  120.0    49.0   \n",
       "139                                                NaN    0.0     5.0   \n",
       "\n",
       "     span_time_second  \n",
       "6               265.0  \n",
       "8                 6.0  \n",
       "10              131.0  \n",
       "12              141.0  \n",
       "13              150.0  \n",
       "..                ...  \n",
       "127              37.0  \n",
       "129             135.0  \n",
       "134             150.0  \n",
       "136             169.0  \n",
       "139               5.0  \n",
       "\n",
       "[75 rows x 21 columns]"
      ]
     },
     "execution_count": 46,
     "metadata": {},
     "output_type": "execute_result"
    }
   ],
   "source": [
    "df[df['span_time_second']<300]      #calculating seconds whose seconds are less than 3000 seconds"
   ]
  },
  {
   "cell_type": "raw",
   "id": "6d4918ae",
   "metadata": {},
   "source": [
    "get all Pokemon who have more than two types of capabilities"
   ]
  },
  {
   "cell_type": "code",
   "execution_count": null,
   "id": "fc6e5f2d",
   "metadata": {},
   "outputs": [],
   "source": [
    "#we dont have any type of capabilites column and there is no related to execute that column"
   ]
  },
  {
   "cell_type": "code",
   "execution_count": null,
   "id": "9299996b",
   "metadata": {},
   "outputs": [],
   "source": []
  },
  {
   "cell_type": "code",
   "execution_count": null,
   "id": "13337b33",
   "metadata": {},
   "outputs": [],
   "source": []
  },
  {
   "cell_type": "code",
   "execution_count": null,
   "id": "2a5a1c39",
   "metadata": {},
   "outputs": [],
   "source": []
  },
  {
   "cell_type": "code",
   "execution_count": null,
   "id": "7bb8f6cb",
   "metadata": {},
   "outputs": [],
   "source": []
  },
  {
   "cell_type": "code",
   "execution_count": null,
   "id": "49af696a",
   "metadata": {},
   "outputs": [],
   "source": []
  },
  {
   "cell_type": "code",
   "execution_count": null,
   "id": "d5febc38",
   "metadata": {},
   "outputs": [],
   "source": []
  },
  {
   "cell_type": "code",
   "execution_count": null,
   "id": "5bd9f054",
   "metadata": {},
   "outputs": [],
   "source": []
  },
  {
   "cell_type": "code",
   "execution_count": null,
   "id": "247b12c2",
   "metadata": {},
   "outputs": [],
   "source": []
  },
  {
   "cell_type": "code",
   "execution_count": null,
   "id": "793f9dd0",
   "metadata": {},
   "outputs": [],
   "source": []
  },
  {
   "cell_type": "code",
   "execution_count": null,
   "id": "39a85ca7",
   "metadata": {},
   "outputs": [],
   "source": []
  },
  {
   "cell_type": "code",
   "execution_count": null,
   "id": "990791f9",
   "metadata": {},
   "outputs": [],
   "source": []
  },
  {
   "cell_type": "code",
   "execution_count": null,
   "id": "a0b290ad",
   "metadata": {},
   "outputs": [],
   "source": [
    "#If read directly data from the xlsx file then the second question answer will be like below"
   ]
  },
  {
   "cell_type": "code",
   "execution_count": 55,
   "id": "36a49611",
   "metadata": {},
   "outputs": [],
   "source": [
    "dd=pd.read_excel('pokeman.xlsx')       #Reading data directly from the xlsx file "
   ]
  },
  {
   "cell_type": "code",
   "execution_count": 65,
   "id": "bf63fce4",
   "metadata": {},
   "outputs": [
    {
     "data": {
      "text/plain": [
       "list"
      ]
     },
     "execution_count": 65,
     "metadata": {},
     "output_type": "execute_result"
    }
   ],
   "source": [
    "type(dd['weaknesses'][0].split(' '))   #Converting object data into list type "
   ]
  },
  {
   "cell_type": "code",
   "execution_count": 66,
   "id": "53026c5f",
   "metadata": {},
   "outputs": [],
   "source": [
    "pok=[]\n",
    "for i in range(len(df['weaknesses'])):\n",
    "    if len(df['weaknesses'][i])<4:\n",
    "        pok.append(df['name'][i])"
   ]
  },
  {
   "cell_type": "code",
   "execution_count": 71,
   "id": "d56b6888",
   "metadata": {},
   "outputs": [],
   "source": [
    "kk=[]\n",
    "for i in range(len(dd['weaknesses'])):\n",
    "    kk.append(dd['weaknesses'][i].split(' '))"
   ]
  },
  {
   "cell_type": "code",
   "execution_count": 72,
   "id": "bc788419",
   "metadata": {},
   "outputs": [
    {
     "data": {
      "text/plain": [
       "[[\"['Fire',\", \"'Ice',\", \"'Flying',\", \"'Psychic']\"],\n",
       " [\"['Fire',\", \"'Ice',\", \"'Flying',\", \"'Psychic']\"],\n",
       " [\"['Fire',\", \"'Ice',\", \"'Flying',\", \"'Psychic']\"],\n",
       " [\"['Water',\", \"'Ground',\", \"'Rock']\"],\n",
       " [\"['Water',\", \"'Ground',\", \"'Rock']\"],\n",
       " [\"['Water',\", \"'Electric',\", \"'Rock']\"],\n",
       " [\"['Electric',\", \"'Grass']\"],\n",
       " [\"['Electric',\", \"'Grass']\"],\n",
       " [\"['Electric',\", \"'Grass']\"],\n",
       " [\"['Fire',\", \"'Flying',\", \"'Rock']\"],\n",
       " [\"['Fire',\", \"'Flying',\", \"'Rock']\"],\n",
       " [\"['Fire',\", \"'Electric',\", \"'Ice',\", \"'Flying',\", \"'Rock']\"],\n",
       " [\"['Fire',\", \"'Flying',\", \"'Psychic',\", \"'Rock']\"],\n",
       " [\"['Fire',\", \"'Flying',\", \"'Psychic',\", \"'Rock']\"],\n",
       " [\"['Fire',\", \"'Flying',\", \"'Psychic',\", \"'Rock']\"],\n",
       " [\"['Electric',\", \"'Rock']\"],\n",
       " [\"['Electric',\", \"'Rock']\"],\n",
       " [\"['Electric',\", \"'Rock']\"],\n",
       " [\"['Fighting']\"],\n",
       " [\"['Fighting']\"],\n",
       " [\"['Electric',\", \"'Rock']\"],\n",
       " [\"['Electric',\", \"'Rock']\"],\n",
       " [\"['Ground',\", \"'Psychic']\"],\n",
       " [\"['Ground',\", \"'Psychic']\"],\n",
       " [\"['Ground']\"],\n",
       " [\"['Ground']\"],\n",
       " [\"['Water',\", \"'Grass',\", \"'Ice']\"],\n",
       " [\"['Water',\", \"'Grass',\", \"'Ice']\"],\n",
       " [\"['Ground',\", \"'Psychic']\"],\n",
       " [\"['Ground',\", \"'Psychic']\"],\n",
       " [\"['Water',\", \"'Ice',\", \"'Ground',\", \"'Psychic']\"],\n",
       " [\"['Ground',\", \"'Psychic']\"],\n",
       " [\"['Ground',\", \"'Psychic']\"],\n",
       " [\"['Water',\", \"'Ice',\", \"'Ground',\", \"'Psychic']\"],\n",
       " [\"['Fighting']\"],\n",
       " [\"['Fighting']\"],\n",
       " [\"['Water',\", \"'Ground',\", \"'Rock']\"],\n",
       " [\"['Water',\", \"'Ground',\", \"'Rock']\"],\n",
       " [\"['Fighting']\"],\n",
       " [\"['Fighting']\"],\n",
       " [\"['Electric',\", \"'Ice',\", \"'Psychic',\", \"'Rock']\"],\n",
       " [\"['Electric',\", \"'Ice',\", \"'Psychic',\", \"'Rock']\"],\n",
       " [\"['Fire',\", \"'Ice',\", \"'Flying',\", \"'Psychic']\"],\n",
       " [\"['Fire',\", \"'Ice',\", \"'Flying',\", \"'Psychic']\"],\n",
       " [\"['Fire',\", \"'Ice',\", \"'Flying',\", \"'Psychic']\"],\n",
       " [\"['Fire',\", \"'Ice',\", \"'Poison',\", \"'Flying',\", \"'Bug',\", \"'Rock']\"],\n",
       " [\"['Fire',\", \"'Ice',\", \"'Poison',\", \"'Flying',\", \"'Bug',\", \"'Rock']\"],\n",
       " [\"['Fire',\", \"'Flying',\", \"'Psychic',\", \"'Rock']\"],\n",
       " [\"['Fire',\", \"'Flying',\", \"'Psychic',\", \"'Rock']\"],\n",
       " [\"['Water',\", \"'Grass',\", \"'Ice']\"],\n",
       " [\"['Water',\", \"'Grass',\", \"'Ice']\"],\n",
       " [\"['Fighting']\"],\n",
       " [\"['Fighting']\"],\n",
       " [\"['Electric',\", \"'Grass']\"],\n",
       " [\"['Electric',\", \"'Grass']\"],\n",
       " [\"['Flying',\", \"'Psychic',\", \"'Fairy']\"],\n",
       " [\"['Flying',\", \"'Psychic',\", \"'Fairy']\"],\n",
       " [\"['Water',\", \"'Ground',\", \"'Rock']\"],\n",
       " [\"['Water',\", \"'Ground',\", \"'Rock']\"],\n",
       " [\"['Electric',\", \"'Grass']\"],\n",
       " [\"['Electric',\", \"'Grass']\"],\n",
       " [\"['Electric',\", \"'Grass',\", \"'Flying',\", \"'Psychic',\", \"'Fairy']\"],\n",
       " [\"['Bug',\", \"'Ghost',\", \"'Dark']\"],\n",
       " [\"['Bug',\", \"'Ghost',\", \"'Dark']\"],\n",
       " [\"['Bug',\", \"'Ghost',\", \"'Dark']\"],\n",
       " [\"['Flying',\", \"'Psychic',\", \"'Fairy']\"],\n",
       " [\"['Flying',\", \"'Psychic',\", \"'Fairy']\"],\n",
       " [\"['Flying',\", \"'Psychic',\", \"'Fairy']\"],\n",
       " [\"['Fire',\", \"'Ice',\", \"'Flying',\", \"'Psychic']\"],\n",
       " [\"['Fire',\", \"'Ice',\", \"'Flying',\", \"'Psychic']\"],\n",
       " [\"['Fire',\", \"'Ice',\", \"'Flying',\", \"'Psychic']\"],\n",
       " [\"['Electric',\", \"'Ground',\", \"'Psychic']\"],\n",
       " [\"['Electric',\", \"'Ground',\", \"'Psychic']\"],\n",
       " [\"['Water',\", \"'Grass',\", \"'Ice',\", \"'Fighting',\", \"'Ground',\", \"'Steel']\"],\n",
       " [\"['Water',\", \"'Grass',\", \"'Ice',\", \"'Fighting',\", \"'Ground',\", \"'Steel']\"],\n",
       " [\"['Water',\", \"'Grass',\", \"'Ice',\", \"'Fighting',\", \"'Ground',\", \"'Steel']\"],\n",
       " [\"['Water',\", \"'Ground',\", \"'Rock']\"],\n",
       " [\"['Water',\", \"'Ground',\", \"'Rock']\"],\n",
       " [\"['Electric',\", \"'Grass',\", \"'Bug',\", \"'Ghost',\", \"'Dark']\"],\n",
       " [\"['Electric',\", \"'Grass',\", \"'Bug',\", \"'Ghost',\", \"'Dark']\"],\n",
       " [\"['Fire',\", \"'Water',\", \"'Ground']\"],\n",
       " [\"['Fire',\", \"'Water',\", \"'Ground']\"],\n",
       " [\"['Electric',\", \"'Rock']\"],\n",
       " [\"['Electric',\", \"'Rock']\"],\n",
       " [\"['Electric',\", \"'Rock']\"],\n",
       " [\"['Electric',\", \"'Grass']\"],\n",
       " [\"['Electric',\", \"'Grass',\", \"'Fighting',\", \"'Rock']\"],\n",
       " [\"['Ground',\", \"'Psychic']\"],\n",
       " [\"['Ground',\", \"'Psychic']\"],\n",
       " [\"['Electric',\", \"'Grass']\"],\n",
       " [\"['Electric',\", \"'Grass',\", \"'Fighting',\", \"'Rock']\"],\n",
       " [\"['Ground',\", \"'Psychic',\", \"'Ghost',\", \"'Dark']\"],\n",
       " [\"['Ground',\", \"'Psychic',\", \"'Ghost',\", \"'Dark']\"],\n",
       " [\"['Ground',\", \"'Psychic',\", \"'Ghost',\", \"'Dark']\"],\n",
       " [\"['Water',\", \"'Grass',\", \"'Ice',\", \"'Fighting',\", \"'Ground',\", \"'Steel']\"],\n",
       " [\"['Bug',\", \"'Ghost',\", \"'Dark']\"],\n",
       " [\"['Bug',\", \"'Ghost',\", \"'Dark']\"],\n",
       " [\"['Electric',\", \"'Grass']\"],\n",
       " [\"['Electric',\", \"'Grass']\"],\n",
       " [\"['Ground']\"],\n",
       " [\"['Ground']\"],\n",
       " [\"['Fire',\",\n",
       "  \"'Ice',\",\n",
       "  \"'Poison',\",\n",
       "  \"'Flying',\",\n",
       "  \"'Bug',\",\n",
       "  \"'Ghost',\",\n",
       "  \"'Dark']\"],\n",
       " [\"['Fire',\",\n",
       "  \"'Ice',\",\n",
       "  \"'Poison',\",\n",
       "  \"'Flying',\",\n",
       "  \"'Bug',\",\n",
       "  \"'Ghost',\",\n",
       "  \"'Dark']\"],\n",
       " [\"['Water',\", \"'Grass',\", \"'Ice']\"],\n",
       " [\"['Water',\", \"'Grass',\", \"'Ice']\"],\n",
       " [\"['Flying',\", \"'Psychic',\", \"'Fairy']\"],\n",
       " [\"['Flying',\", \"'Psychic',\", \"'Fairy']\"],\n",
       " [\"['Fighting']\"],\n",
       " [\"['Ground',\", \"'Psychic']\"],\n",
       " [\"['Ground',\", \"'Psychic']\"],\n",
       " [\"['Water',\", \"'Grass',\", \"'Ice',\", \"'Fighting',\", \"'Ground',\", \"'Steel']\"],\n",
       " [\"['Water',\", \"'Grass',\", \"'Ice',\", \"'Fighting',\", \"'Ground',\", \"'Steel']\"],\n",
       " [\"['Fighting']\"],\n",
       " [\"['Fire',\", \"'Ice',\", \"'Poison',\", \"'Flying',\", \"'Bug']\"],\n",
       " [\"['Fighting']\"],\n",
       " [\"['Electric',\", \"'Grass']\"],\n",
       " [\"['Electric',\", \"'Grass']\"],\n",
       " [\"['Electric',\", \"'Grass']\"],\n",
       " [\"['Electric',\", \"'Grass']\"],\n",
       " [\"['Electric',\", \"'Grass']\"],\n",
       " [\"['Electric',\", \"'Grass',\", \"'Bug',\", \"'Ghost',\", \"'Dark']\"],\n",
       " [\"['Bug',\", \"'Ghost',\", \"'Dark']\"],\n",
       " [\"['Fire',\", \"'Electric',\", \"'Ice',\", \"'Flying',\", \"'Rock']\"],\n",
       " [\"['Fire',\", \"'Bug',\", \"'Rock',\", \"'Ghost',\", \"'Dark',\", \"'Steel']\"],\n",
       " [\"['Ground']\"],\n",
       " [\"['Water',\", \"'Ground',\", \"'Rock']\"],\n",
       " [\"['Fire',\", \"'Flying',\", \"'Rock']\"],\n",
       " [\"['Fighting']\"],\n",
       " [\"['Electric',\", \"'Grass']\"],\n",
       " [\"['Electric',\", \"'Rock']\"],\n",
       " [\"['Electric',\", \"'Grass',\", \"'Fighting',\", \"'Rock']\"],\n",
       " [\"['Fighting']\"],\n",
       " [\"['Fighting']\"],\n",
       " [\"['Electric',\", \"'Grass']\"],\n",
       " [\"['Ground']\"],\n",
       " [\"['Water',\", \"'Ground',\", \"'Rock']\"],\n",
       " [\"['Fighting']\"],\n",
       " [\"['Electric',\", \"'Grass',\", \"'Fighting',\", \"'Ground']\"],\n",
       " [\"['Electric',\", \"'Grass',\", \"'Fighting',\", \"'Ground']\"],\n",
       " [\"['Electric',\", \"'Grass',\", \"'Fighting',\", \"'Ground']\"],\n",
       " [\"['Electric',\", \"'Grass',\", \"'Fighting',\", \"'Ground']\"],\n",
       " [\"['Water',\", \"'Electric',\", \"'Ice',\", \"'Rock',\", \"'Steel']\"],\n",
       " [\"['Fighting']\"],\n",
       " [\"['Fire',\", \"'Electric',\", \"'Rock',\", \"'Steel']\"],\n",
       " [\"['Ice',\", \"'Rock']\"],\n",
       " [\"['Water',\", \"'Electric',\", \"'Rock']\"],\n",
       " [\"['Ice',\", \"'Dragon',\", \"'Fairy']\"],\n",
       " [\"['Ice',\", \"'Dragon',\", \"'Fairy']\"],\n",
       " [\"['Ice',\", \"'Rock',\", \"'Dragon',\", \"'Fairy']\"],\n",
       " [\"['Bug',\", \"'Ghost',\", \"'Dark']\"],\n",
       " [\"['Bug',\", \"'Ghost',\", \"'Dark']\"]]"
      ]
     },
     "execution_count": 72,
     "metadata": {},
     "output_type": "execute_result"
    }
   ],
   "source": [
    "kk"
   ]
  },
  {
   "cell_type": "code",
   "execution_count": 73,
   "id": "bef3c25b",
   "metadata": {},
   "outputs": [
    {
     "data": {
      "text/plain": [
       "[\"['Fire',\", \"'Ice',\", \"'Flying',\", \"'Psychic']\"]"
      ]
     },
     "execution_count": 73,
     "metadata": {},
     "output_type": "execute_result"
    }
   ],
   "source": [
    "kk[0]"
   ]
  },
  {
   "cell_type": "code",
   "execution_count": 74,
   "id": "591bfccb",
   "metadata": {},
   "outputs": [
    {
     "data": {
      "text/plain": [
       "4"
      ]
     },
     "execution_count": 74,
     "metadata": {},
     "output_type": "execute_result"
    }
   ],
   "source": [
    "len(kk[0])"
   ]
  },
  {
   "cell_type": "code",
   "execution_count": 88,
   "id": "a4524e9d",
   "metadata": {},
   "outputs": [],
   "source": [
    "dd['kk']=kk"
   ]
  },
  {
   "cell_type": "code",
   "execution_count": 90,
   "id": "0304d39d",
   "metadata": {},
   "outputs": [],
   "source": [
    "pk=[]\n",
    "for i in range(len(dd['kk'])):\n",
    "    if len(dd['kk'][i])<4:\n",
    "        pk.append(dd['name'][i])"
   ]
  },
  {
   "cell_type": "code",
   "execution_count": 91,
   "id": "1a9f8326",
   "metadata": {},
   "outputs": [
    {
     "data": {
      "text/plain": [
       "['Charmander',\n",
       " 'Charmeleon',\n",
       " 'Charizard',\n",
       " 'Squirtle',\n",
       " 'Wartortle',\n",
       " 'Blastoise',\n",
       " 'Caterpie',\n",
       " 'Metapod',\n",
       " 'Pidgey',\n",
       " 'Pidgeotto',\n",
       " 'Pidgeot',\n",
       " 'Rattata',\n",
       " 'Raticate',\n",
       " 'Spearow',\n",
       " 'Fearow',\n",
       " 'Ekans',\n",
       " 'Arbok',\n",
       " 'Pikachu',\n",
       " 'Raichu',\n",
       " 'Sandshrew',\n",
       " 'Sandslash',\n",
       " 'Nidoran ♀ (Female)',\n",
       " 'Nidorina',\n",
       " 'Nidoran ♂ (Male)',\n",
       " 'Nidorino',\n",
       " 'Clefairy',\n",
       " 'Clefable',\n",
       " 'Vulpix',\n",
       " 'Ninetales',\n",
       " 'Jigglypuff',\n",
       " 'Wigglytuff',\n",
       " 'Diglett',\n",
       " 'Dugtrio',\n",
       " 'Meowth',\n",
       " 'Persian',\n",
       " 'Psyduck',\n",
       " 'Golduck',\n",
       " 'Mankey',\n",
       " 'Primeape',\n",
       " 'Growlithe',\n",
       " 'Arcanine',\n",
       " 'Poliwag',\n",
       " 'Poliwhirl',\n",
       " 'Abra',\n",
       " 'Kadabra',\n",
       " 'Alakazam',\n",
       " 'Machop',\n",
       " 'Machoke',\n",
       " 'Machamp',\n",
       " 'Tentacool',\n",
       " 'Tentacruel',\n",
       " 'Ponyta',\n",
       " 'Rapidash',\n",
       " 'Magnemite',\n",
       " 'Magneton',\n",
       " \"Farfetch'd\",\n",
       " 'Doduo',\n",
       " 'Dodrio',\n",
       " 'Seel',\n",
       " 'Grimer',\n",
       " 'Muk',\n",
       " 'Shellder',\n",
       " 'Drowzee',\n",
       " 'Hypno',\n",
       " 'Krabby',\n",
       " 'Kingler',\n",
       " 'Voltorb',\n",
       " 'Electrode',\n",
       " 'Cubone',\n",
       " 'Marowak',\n",
       " 'Hitmonlee',\n",
       " 'Hitmonchan',\n",
       " 'Lickitung',\n",
       " 'Koffing',\n",
       " 'Weezing',\n",
       " 'Chansey',\n",
       " 'Kangaskhan',\n",
       " 'Horsea',\n",
       " 'Seadra',\n",
       " 'Goldeen',\n",
       " 'Seaking',\n",
       " 'Staryu',\n",
       " 'Mr. Mime',\n",
       " 'Electabuzz',\n",
       " 'Magmar',\n",
       " 'Pinsir',\n",
       " 'Tauros',\n",
       " 'Magikarp',\n",
       " 'Gyarados',\n",
       " 'Ditto',\n",
       " 'Eevee',\n",
       " 'Vaporeon',\n",
       " 'Jolteon',\n",
       " 'Flareon',\n",
       " 'Porygon',\n",
       " 'Snorlax',\n",
       " 'Zapdos',\n",
       " 'Moltres',\n",
       " 'Dratini',\n",
       " 'Dragonair',\n",
       " 'Mewtwo',\n",
       " 'Mew']"
      ]
     },
     "execution_count": 91,
     "metadata": {},
     "output_type": "execute_result"
    }
   ],
   "source": [
    "pk"
   ]
  },
  {
   "cell_type": "code",
   "execution_count": null,
   "id": "7908cbc9",
   "metadata": {},
   "outputs": [],
   "source": []
  }
 ],
 "metadata": {
  "kernelspec": {
   "display_name": "Python 3 (ipykernel)",
   "language": "python",
   "name": "python3"
  },
  "language_info": {
   "codemirror_mode": {
    "name": "ipython",
    "version": 3
   },
   "file_extension": ".py",
   "mimetype": "text/x-python",
   "name": "python",
   "nbconvert_exporter": "python",
   "pygments_lexer": "ipython3",
   "version": "3.9.13"
  }
 },
 "nbformat": 4,
 "nbformat_minor": 5
}
